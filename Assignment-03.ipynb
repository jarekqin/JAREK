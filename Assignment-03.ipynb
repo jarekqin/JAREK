{
 "cells": [
  {
   "cell_type": "markdown",
   "metadata": {},
   "source": [
    "## Lecture-03 Gradient Descent and Dymanic Programming"
   ]
  },
  {
   "cell_type": "markdown",
   "metadata": {},
   "source": [
    "In this week, we need complete following tasks:\n",
    "+ Re-review the course online programming; \n",
    "+ Choose 1 - 2 books which you interested and keep reading; \n",
    "+ Answer the review questions\n",
    "+ Prepare the basic requirement of our 1st project. "
   ]
  },
  {
   "cell_type": "markdown",
   "metadata": {},
   "source": [
    "### Part I Review the online programming. "
   ]
  },
  {
   "cell_type": "markdown",
   "metadata": {},
   "source": [
    "### Part 2: change loss function from $loss = \\frac{1}{n}\\sum{(y_i - \\hat(y_i))^2}$ to $loss = \\frac{1}{n}\\sum{|y_i - \\hat{y_i}|}$, and using your mathmatical knowledge to get the right partial formual. Implemen the gradient descent code."
   ]
  },
  {
   "cell_type": "code",
   "execution_count": 1,
   "metadata": {},
   "outputs": [
    {
     "name": "stdout",
     "output_type": "stream",
     "text": [
      "Epoch:0, best k=-43.72870,best b=-96.57591, and loss=393.92761\n",
      "Epoch:2, best k=-29.67109,best b=58.29449, and loss=150.71026\n",
      "Epoch:5, best k=-29.79073,best b=97.69869, and loss=112.05798\n",
      "Epoch:9, best k=-12.50040,best b=71.01241, and loss=30.20528\n",
      "Epoch:27, best k=6.32430,best b=-36.84748, and loss=19.63440\n",
      "Epoch:37, best k=4.75120,best b=-21.19801, and loss=13.92868\n",
      "Epoch:137, best k=17.53175,best b=-91.43676, and loss=6.95797\n",
      "Epoch:526, best k=17.99614,best b=-88.42424, and loss=6.52792\n",
      "Epoch:594, best k=10.44585,best b=-42.57837, and loss=4.45939\n",
      "Epoch:31805, best k=9.79486,best b=-38.63609, and loss=4.43985\n",
      "-------------------------华丽的分割线-------------------------\n",
      "Epoch:999, best k=-96.00016,best b=-18.78215, and loss=644.64084\n",
      "Epoch:1999, best k=-95.00016,best b=-17.78215, and loss=637.35620\n",
      "Epoch:2999, best k=-94.00016,best b=-16.78215, and loss=630.07157\n",
      "Epoch:3999, best k=-93.00016,best b=-15.78215, and loss=622.78693\n",
      "Epoch:4999, best k=-92.00016,best b=-14.78215, and loss=615.50230\n",
      "Epoch:5999, best k=-91.00016,best b=-13.78215, and loss=608.21767\n",
      "Epoch:6999, best k=-90.00016,best b=-12.78215, and loss=600.93303\n",
      "Epoch:7999, best k=-89.00016,best b=-11.78215, and loss=593.64840\n",
      "Epoch:8999, best k=-88.00016,best b=-10.78215, and loss=586.36376\n",
      "Epoch:9999, best k=-87.00016,best b=-9.78215, and loss=579.07913\n",
      "Epoch:10999, best k=-86.00016,best b=-8.78215, and loss=571.79449\n",
      "Epoch:11999, best k=-85.00016,best b=-7.78215, and loss=564.50986\n",
      "Epoch:12999, best k=-84.00016,best b=-6.78215, and loss=557.22523\n",
      "Epoch:13999, best k=-83.00016,best b=-5.78215, and loss=549.94059\n",
      "Epoch:14999, best k=-82.00016,best b=-4.78215, and loss=542.65596\n",
      "Epoch:15999, best k=-81.00016,best b=-3.78215, and loss=535.37132\n",
      "Epoch:16999, best k=-80.00016,best b=-2.78215, and loss=528.08669\n",
      "Epoch:17999, best k=-79.00016,best b=-1.78215, and loss=520.80205\n",
      "Epoch:18999, best k=-78.00016,best b=-0.78215, and loss=513.51742\n",
      "Epoch:19999, best k=-77.00016,best b=0.21785, and loss=506.23278\n",
      "Epoch:20999, best k=-76.00016,best b=1.21785, and loss=498.94815\n",
      "Epoch:21999, best k=-75.00016,best b=2.21785, and loss=491.66352\n",
      "Epoch:22999, best k=-74.00016,best b=3.21785, and loss=484.37888\n",
      "Epoch:23999, best k=-73.00016,best b=4.21785, and loss=477.09425\n",
      "Epoch:24999, best k=-72.00016,best b=5.21785, and loss=469.80961\n",
      "Epoch:25999, best k=-71.00016,best b=6.21785, and loss=462.52498\n",
      "Epoch:26999, best k=-70.00016,best b=7.21785, and loss=455.24034\n",
      "Epoch:27999, best k=-69.00016,best b=8.21785, and loss=447.95571\n",
      "Epoch:28999, best k=-68.00016,best b=9.21785, and loss=440.67107\n",
      "Epoch:29999, best k=-67.00016,best b=10.21785, and loss=433.38644\n",
      "Epoch:30999, best k=-66.00016,best b=11.21785, and loss=426.10181\n",
      "Epoch:31999, best k=-65.00016,best b=12.21785, and loss=418.81717\n",
      "Epoch:32999, best k=-64.00016,best b=13.21785, and loss=411.53254\n",
      "Epoch:33999, best k=-63.00016,best b=14.21785, and loss=404.24790\n",
      "Epoch:34999, best k=-62.00016,best b=15.21785, and loss=396.96327\n",
      "Epoch:35999, best k=-61.00016,best b=16.21785, and loss=389.67863\n",
      "Epoch:36999, best k=-60.00016,best b=17.21785, and loss=382.39400\n",
      "Epoch:37999, best k=-59.00016,best b=18.21785, and loss=375.10937\n",
      "Epoch:38999, best k=-58.00016,best b=19.21785, and loss=367.82473\n",
      "Epoch:39999, best k=-57.00016,best b=20.21785, and loss=360.54010\n",
      "Epoch:40999, best k=-56.00016,best b=21.21785, and loss=353.25546\n",
      "Epoch:41999, best k=-55.00016,best b=22.21785, and loss=345.97083\n",
      "Epoch:42999, best k=-54.00016,best b=23.21785, and loss=338.68619\n",
      "Epoch:43999, best k=-53.00016,best b=24.21785, and loss=331.40156\n",
      "Epoch:44999, best k=-52.00016,best b=25.21785, and loss=324.11692\n",
      "Epoch:45999, best k=-51.00016,best b=26.21785, and loss=316.83229\n",
      "Epoch:46999, best k=-50.00016,best b=27.21785, and loss=309.54766\n",
      "Epoch:47999, best k=-49.00016,best b=28.21785, and loss=302.26302\n",
      "Epoch:48999, best k=-48.00016,best b=29.21785, and loss=294.97839\n",
      "Epoch:49999, best k=-47.00016,best b=30.21785, and loss=287.69375\n",
      "Epoch:50999, best k=-46.00016,best b=31.21785, and loss=280.40912\n",
      "Epoch:51999, best k=-45.00016,best b=32.21785, and loss=273.12448\n",
      "Epoch:52999, best k=-44.00016,best b=33.21785, and loss=265.83985\n",
      "Epoch:53999, best k=-43.00016,best b=34.21785, and loss=258.55522\n",
      "Epoch:54999, best k=-42.00016,best b=35.21785, and loss=251.27058\n",
      "Epoch:55999, best k=-41.00016,best b=36.21785, and loss=243.98595\n",
      "Epoch:56999, best k=-40.00016,best b=37.21785, and loss=236.70131\n",
      "Epoch:57999, best k=-39.00016,best b=38.21785, and loss=229.41668\n",
      "Epoch:58999, best k=-38.00016,best b=39.21785, and loss=222.13204\n",
      "Epoch:59999, best k=-37.00016,best b=40.21785, and loss=214.84741\n",
      "Epoch:60999, best k=-36.00016,best b=41.21785, and loss=207.56277\n",
      "Epoch:61999, best k=-35.00016,best b=42.21785, and loss=200.27814\n",
      "Epoch:62999, best k=-34.00016,best b=43.21785, and loss=192.99351\n",
      "Epoch:63999, best k=-33.00016,best b=44.21785, and loss=185.70887\n",
      "Epoch:64999, best k=-32.00016,best b=45.21785, and loss=178.42424\n",
      "Epoch:65999, best k=-31.00016,best b=46.21785, and loss=171.13960\n",
      "Epoch:66999, best k=-30.00016,best b=47.21785, and loss=163.85497\n",
      "Epoch:67999, best k=-29.00016,best b=48.21785, and loss=156.57033\n",
      "Epoch:68999, best k=-28.00016,best b=49.21785, and loss=149.28570\n",
      "Epoch:69999, best k=-27.00016,best b=50.21785, and loss=142.00106\n",
      "Epoch:70999, best k=-26.00016,best b=51.21785, and loss=134.71643\n",
      "Epoch:71999, best k=-25.00016,best b=52.21785, and loss=127.43180\n",
      "Epoch:72999, best k=-24.00016,best b=53.21785, and loss=120.14716\n",
      "Epoch:73999, best k=-23.00016,best b=54.21785, and loss=112.86253\n",
      "Epoch:74999, best k=-22.00016,best b=55.21785, and loss=105.57789\n",
      "Epoch:75999, best k=-21.00016,best b=56.21785, and loss=98.29326\n",
      "Epoch:76999, best k=-20.00016,best b=57.21785, and loss=91.00862\n",
      "Epoch:77999, best k=-19.00016,best b=58.21785, and loss=83.72399\n",
      "Epoch:78999, best k=-18.00016,best b=59.21785, and loss=76.43936\n",
      "Epoch:79999, best k=-17.00016,best b=60.21785, and loss=69.15472\n",
      "Epoch:80999, best k=-16.00016,best b=61.21785, and loss=61.87009\n",
      "Epoch:81999, best k=-15.00016,best b=62.21785, and loss=54.58545\n",
      "Epoch:82999, best k=-14.00016,best b=63.21785, and loss=47.30082\n",
      "Epoch:83999, best k=-13.00016,best b=64.21785, and loss=40.01618\n",
      "Epoch:84999, best k=-12.00016,best b=65.21785, and loss=32.78456\n",
      "Epoch:85999, best k=-11.00016,best b=66.21785, and loss=25.65167\n",
      "Epoch:86999, best k=-10.00016,best b=67.21785, and loss=18.88246\n",
      "Epoch:87999, best k=-9.00016,best b=68.21785, and loss=12.96776\n",
      "Epoch:88999, best k=-8.00016,best b=69.21785, and loss=9.73525\n",
      "Epoch:90071, best k=-7.67816,best b=68.56985, and loss=9.61448\n",
      "Epoch:91184, best k=-7.50016,best b=67.56985, and loss=9.54553\n",
      "Epoch:92267, best k=-7.35016,best b=66.56985, and loss=9.47656\n",
      "Epoch:93392, best k=-7.18016,best b=65.56985, and loss=9.40764\n",
      "Epoch:94505, best k=-7.00016,best b=64.56985, and loss=9.33968\n",
      "Epoch:95586, best k=-6.84816,best b=63.56985, and loss=9.27063\n",
      "Epoch:96657, best k=-6.69616,best b=62.56985, and loss=9.20190\n",
      "Epoch:97711, best k=-6.55616,best b=61.56985, and loss=9.13373\n",
      "Epoch:98761, best k=-6.40016,best b=60.56985, and loss=9.06549\n",
      "Epoch:99816, best k=-6.22816,best b=59.56985, and loss=8.99653\n",
      "-------------------------华丽的分割线-------------------------\n",
      "Epoch:0, best k=28.19153,best b=-75.82620, and loss=78.82609\n",
      "Epoch:4000, best k=16.04011,best b=-0.00000, and loss=78.27345\n",
      "Epoch:5000, best k=14.09387,best b=-0.00000, and loss=66.04201\n",
      "Epoch:6000, best k=12.45335,best b=-0.00000, and loss=55.73192\n",
      "Epoch:7000, best k=11.07052,best b=-0.00000, and loss=47.04137\n",
      "Epoch:8000, best k=9.90491,best b=-0.00000, and loss=39.71901\n",
      "Epoch:9000, best k=8.92240,best b=-0.00000, and loss=33.56360\n",
      "Epoch:10000, best k=8.09423,best b=-0.00000, and loss=28.38476\n",
      "Epoch:11000, best k=7.39615,best b=-0.00000, and loss=24.05026\n",
      "Epoch:12000, best k=6.80772,best b=-0.00000, and loss=20.42456\n",
      "Epoch:13000, best k=6.31173,best b=-0.00000, and loss=17.39192\n",
      "Epoch:14000, best k=5.89365,best b=-0.00000, and loss=14.93683\n",
      "Epoch:15000, best k=5.54124,best b=-0.00000, and loss=12.99307\n",
      "Epoch:16000, best k=5.24419,best b=-0.00000, and loss=11.40305\n",
      "Epoch:17000, best k=4.99380,best b=-0.00000, and loss=10.11191\n",
      "Epoch:18000, best k=4.78274,best b=-0.00000, and loss=9.09346\n"
     ]
    },
    {
     "name": "stdout",
     "output_type": "stream",
     "text": [
      "Epoch:19000, best k=4.60483,best b=-0.00000, and loss=8.29832\n",
      "Epoch:20000, best k=4.45488,best b=-0.00000, and loss=7.68466\n",
      "Epoch:21000, best k=4.32847,best b=-0.00000, and loss=7.21137\n",
      "Epoch:22000, best k=4.22193,best b=-0.00000, and loss=6.84371\n",
      "Epoch:23000, best k=4.13212,best b=-0.00000, and loss=6.55078\n",
      "Epoch:24000, best k=4.05641,best b=-0.00000, and loss=6.32171\n",
      "Epoch:25000, best k=3.99260,best b=-0.00000, and loss=6.14462\n",
      "Epoch:26000, best k=3.93882,best b=-0.00000, and loss=6.00423\n",
      "Epoch:27000, best k=3.89348,best b=-0.00000, and loss=5.89204\n",
      "Epoch:28000, best k=3.85526,best b=-0.00000, and loss=5.80733\n",
      "Epoch:29000, best k=3.82305,best b=-0.00000, and loss=5.74343\n",
      "Epoch:30000, best k=3.79590,best b=-0.00000, and loss=5.69372\n",
      "Epoch:31000, best k=3.77301,best b=-0.00000, and loss=5.65361\n",
      "Epoch:32000, best k=3.75372,best b=-0.00000, and loss=5.62185\n",
      "Epoch:33000, best k=3.73745,best b=-0.00000, and loss=5.59665\n",
      "Epoch:34000, best k=3.72375,best b=-0.00000, and loss=5.57745\n",
      "Epoch:35000, best k=3.71219,best b=-0.00000, and loss=5.56146\n",
      "Epoch:36000, best k=3.70245,best b=-0.00000, and loss=5.54840\n",
      "Epoch:37000, best k=3.69424,best b=-0.00000, and loss=5.53817\n",
      "Epoch:38000, best k=3.68732,best b=-0.00000, and loss=5.52990\n",
      "Epoch:39000, best k=3.68149,best b=-0.00000, and loss=5.52316\n",
      "Epoch:40000, best k=3.67657,best b=-0.00000, and loss=5.51770\n",
      "Epoch:41000, best k=3.67243,best b=-0.00000, and loss=5.51317\n",
      "Epoch:42000, best k=3.66894,best b=-0.00000, and loss=5.50936\n",
      "Epoch:43000, best k=3.66599,best b=-0.00000, and loss=5.50614\n",
      "Epoch:44000, best k=3.66351,best b=-0.00000, and loss=5.50343\n",
      "Epoch:45000, best k=3.66142,best b=-0.00000, and loss=5.50119\n",
      "Epoch:46000, best k=3.65965,best b=-0.00000, and loss=5.49930\n",
      "Epoch:47000, best k=3.65817,best b=-0.00000, and loss=5.49772\n",
      "Epoch:48000, best k=3.65691,best b=-0.00000, and loss=5.49638\n",
      "Epoch:49000, best k=3.65586,best b=-0.00000, and loss=5.49528\n",
      "Epoch:50000, best k=3.65497,best b=-0.00000, and loss=5.49435\n",
      "Epoch:51000, best k=3.65422,best b=-0.00000, and loss=5.49359\n",
      "Epoch:52000, best k=3.65358,best b=-0.00000, and loss=5.49294\n",
      "Epoch:53000, best k=3.65305,best b=-0.00000, and loss=5.49240\n",
      "Epoch:54000, best k=3.65260,best b=-0.00000, and loss=5.49194\n",
      "Epoch:55000, best k=3.65222,best b=-0.00000, and loss=5.49155\n",
      "Epoch:56000, best k=3.65190,best b=-0.00000, and loss=5.49123\n",
      "Epoch:57000, best k=3.65163,best b=-0.00000, and loss=5.49095\n",
      "Epoch:58000, best k=3.65141,best b=-0.00000, and loss=5.49072\n",
      "Epoch:59000, best k=3.65122,best b=-0.00000, and loss=5.49053\n",
      "Epoch:60000, best k=3.65106,best b=-0.00000, and loss=5.49036\n",
      "Epoch:61000, best k=3.65092,best b=-0.00000, and loss=5.49022\n",
      "Epoch:62000, best k=3.65080,best b=-0.00000, and loss=5.49011\n",
      "Epoch:63000, best k=3.65071,best b=-0.00000, and loss=5.49001\n",
      "Epoch:64000, best k=3.65063,best b=-0.00000, and loss=5.48993\n",
      "Epoch:65000, best k=3.65056,best b=-0.00000, and loss=5.48986\n",
      "Epoch:66000, best k=3.65050,best b=-0.00000, and loss=5.48980\n",
      "Epoch:67000, best k=3.65045,best b=-0.00000, and loss=5.48975\n",
      "Epoch:68000, best k=3.65041,best b=-0.00000, and loss=5.48970\n",
      "Epoch:69000, best k=3.65038,best b=-0.00000, and loss=5.48967\n",
      "Epoch:70000, best k=3.65035,best b=-0.00000, and loss=5.48964\n",
      "Epoch:71000, best k=3.65032,best b=-0.00000, and loss=5.48961\n",
      "Epoch:72000, best k=3.65030,best b=-0.00000, and loss=5.48959\n",
      "Epoch:73000, best k=3.65028,best b=-0.00000, and loss=5.48958\n",
      "Epoch:74000, best k=3.65027,best b=-0.00000, and loss=5.48956\n",
      "Epoch:75000, best k=3.65026,best b=-0.00000, and loss=5.48955\n",
      "Epoch:76000, best k=3.65025,best b=-0.00000, and loss=5.48954\n",
      "Epoch:77000, best k=3.65024,best b=-0.00000, and loss=5.48953\n",
      "Epoch:78000, best k=3.65023,best b=-0.00000, and loss=5.48952\n",
      "Epoch:79000, best k=3.65022,best b=-0.00000, and loss=5.48951\n",
      "Epoch:80000, best k=3.65022,best b=-0.00000, and loss=5.48951\n",
      "Epoch:81000, best k=3.65021,best b=-0.00000, and loss=5.48950\n",
      "Epoch:82000, best k=3.65021,best b=-0.00000, and loss=5.48950\n",
      "Epoch:83000, best k=3.65021,best b=-0.00000, and loss=5.48950\n",
      "Epoch:84000, best k=3.65020,best b=-0.00000, and loss=5.48949\n",
      "Epoch:85000, best k=3.65020,best b=-0.00000, and loss=5.48949\n",
      "Epoch:86000, best k=3.65020,best b=-0.00000, and loss=5.48949\n",
      "Epoch:87000, best k=3.65020,best b=-0.00000, and loss=5.48949\n",
      "Epoch:88000, best k=3.65020,best b=-0.00000, and loss=5.48949\n",
      "Epoch:89000, best k=3.65020,best b=-0.00000, and loss=5.48949\n",
      "Epoch:90000, best k=3.65020,best b=-0.00000, and loss=5.48949\n",
      "Epoch:91000, best k=3.65019,best b=-0.00000, and loss=5.48948\n",
      "Epoch:92000, best k=3.65019,best b=-0.00000, and loss=5.48948\n",
      "Epoch:93000, best k=3.65019,best b=-0.00000, and loss=5.48948\n",
      "Epoch:94000, best k=3.65019,best b=-0.00000, and loss=5.48948\n",
      "Epoch:95000, best k=3.65019,best b=-0.00000, and loss=5.48948\n",
      "Epoch:96000, best k=3.65019,best b=-0.00000, and loss=5.48948\n",
      "Epoch:97000, best k=3.65019,best b=-0.00000, and loss=5.48948\n",
      "Epoch:98000, best k=3.65019,best b=-0.00000, and loss=5.48948\n",
      "Epoch:99000, best k=3.65019,best b=-0.00000, and loss=5.48948\n"
     ]
    }
   ],
   "source": [
    "# Random Choose Method to get optimal k* and *b\n",
    "import random\n",
    "import numpy as np\n",
    "\n",
    "class FrameWork:\n",
    "    def __init__(self,x,y):\n",
    "        self.__y=y\n",
    "        self.__x=x\n",
    "        \n",
    "    def __price(self,r,k,b):\n",
    "        return k*r+b\n",
    "    \n",
    "    def __loss_func1(self,y,y_hat):\n",
    "        return sum((y_i-y_hat_i)**2 for y_i,y_hat_i in zip(list(y),list(y_hat)))/len(list(self.__y))\n",
    "    \n",
    "    def __loss_func2(self,y,y_hat):\n",
    "        return sum(abs(y_i-y_hat_i) for y_i,y_hat_i in zip(list(y),list(y_hat)))/len(list(self.__y))\n",
    "    \n",
    "    def calculation_random_choose(self,epoch,func_type='1'):\n",
    "        least_lost=np.inf\n",
    "        best_k=best_b=None\n",
    "        for i in range(epoch):\n",
    "            k=random.random() * 200 - 100\n",
    "            b=random.random()*200-100\n",
    "            predicted_price=[self.__price(r,k,b) for r in self.__x[:,5]]\n",
    "            \n",
    "            if func_type=='1':\n",
    "                current_loss=self.__loss_func1(self.__y,predicted_price)\n",
    "            elif func_type=='2':\n",
    "                current_loss=self.__loss_func2(self.__y,predicted_price)\n",
    "            else:\n",
    "                raise TypeError('Wrong function type!')\n",
    "                   \n",
    "            if current_loss<least_lost:\n",
    "                least_lost=current_loss\n",
    "                best_k,best_b=k,b\n",
    "                print('Epoch:%d, best k=%0.5f,best b=%0.5f, and loss=%0.5f' % (i,best_k,best_b,least_lost))\n",
    "                \n",
    "                \n",
    "    def calculation_direction(self,epoch,learning_rate=0.001,func_type='1'):\n",
    "        direction = [\n",
    "            (+1, -1), \n",
    "            (+1, +1), \n",
    "            (-1, -1), \n",
    "            (-1, +1),\n",
    "            ]\n",
    "        min_loss=float(np.inf)\n",
    "        best_k=random.random() * 200 - 100\n",
    "        best_b=random.random() * 200 - 100\n",
    "        next_direction=random.choice(direction)\n",
    "        update_time=0\n",
    "        \n",
    "        for i in range(epoch):\n",
    "    \n",
    "            k_direction, b_direction = next_direction\n",
    "    \n",
    "            current_k, current_b = best_k + k_direction * learning_rate, best_b + b_direction * learning_rate\n",
    "    \n",
    "            price_by_k_and_b = [self.__price(r, current_k, current_b) for r in self.__x[:,5]]\n",
    "\n",
    "            if func_type=='1':\n",
    "                current_loss=self.__loss_func1(self.__y,price_by_k_and_b)\n",
    "            elif func_type=='2':\n",
    "                current_loss=self.__loss_func2(self.__y,price_by_k_and_b)\n",
    "            else:\n",
    "                raise TypeError('Wrong function type!')\n",
    "    \n",
    "            if current_loss < min_loss: # performance became better\n",
    "                min_loss = current_loss\n",
    "                best_k, best_b = current_k, current_b\n",
    "        \n",
    "                next_direction = next_direction\n",
    "                update_time+=1\n",
    "                \n",
    "                if update_time%1000==0:\n",
    "                    print('Epoch:%d, best k=%0.5f,best b=%0.5f, and loss=%0.5f' % (i,best_k,best_b,min_loss))\n",
    "            else:\n",
    "                next_direction = random.choice(direction)\n",
    "                \n",
    "                \n",
    "    def calculation_gradirent(self,epoch,learning_rate=0.001,func_type='1'):\n",
    "        min_loss=float(np.inf)\n",
    "        current_k=random.random() * 200 - 100\n",
    "        current_b=random.random() * 200 - 100\n",
    "        \n",
    "        def partial_k(x,y,y_hat):\n",
    "            n=len(y)\n",
    "            gradient=0\n",
    "            for x_i,y_i,y_hat_i in zip(list(x),list(y),list(y_hat)):\n",
    "                gradient+=(y_i-y_hat_i)*x_i\n",
    "                \n",
    "                return -2/n*gradient\n",
    "            \n",
    "        def partial_b(x,y,y_hat):\n",
    "            n=len(y)\n",
    "            gradient=0\n",
    "            for y_i,y_hat_i in zip(list(y),list(y_hat)):\n",
    "                gradient+=(y_i-y_hat_i)\n",
    "            return -2/n*gradient\n",
    "        \n",
    "        for i in range(epoch):\n",
    "            predicted_price=[self.__price(r,current_k,current_b) for r in self.__x[:,5]]\n",
    "            \n",
    "            if func_type=='1':\n",
    "                current_loss=self.__loss_func1(self.__y,predicted_price)\n",
    "            elif func_type=='2':\n",
    "                current_loss=self.__loss_func2(self.__y,predicted_price)\n",
    "            else:\n",
    "                raise TypeError('Wrong function type!')\n",
    "            \n",
    "            if current_loss <min_loss:\n",
    "                min_loss=current_loss\n",
    "                best_k,best_b=current_k,current_b\n",
    "                \n",
    "                if i % 1000==0:\n",
    "                    print('Epoch:%d, best k=%0.5f,best b=%0.5f, and loss=%0.5f' % (i,best_k,best_b,min_loss))\n",
    "            k_gra=partial_k(self.__x[:,5],self.__y,predicted_price)\n",
    "            b_gra=partial_b(self.__x[:,5],self.__y,predicted_price)\n",
    "            current_k=current_k+(-1*k_gra)*learning_rate\n",
    "            current_b=current_b*(-1*b_gra)*learning_rate\n",
    "                   \n",
    "if __name__=='__main__':\n",
    "    from sklearn.datasets import load_boston\n",
    "    data = load_boston()\n",
    "    x, y = data['data'], data['target']\n",
    "    model=FrameWork(x,y)\n",
    "    model.calculation_random_choose(100000,'2')\n",
    "    print('-'*25+'华丽的分割线'+'-'*25)\n",
    "    model.calculation_direction(100000,0.001,'2')\n",
    "    print('-'*25+'华丽的分割线'+'-'*25)\n",
    "    model.calculation_gradirent(100000,0.001,'2')\n",
    "    "
   ]
  },
  {
   "cell_type": "markdown",
   "metadata": {},
   "source": [
    "### Part 3: Finish the Solution Parse Part of Edit-Distance"
   ]
  },
  {
   "cell_type": "code",
   "execution_count": 64,
   "metadata": {},
   "outputs": [
    {
     "data": {
      "text/plain": [
       "2"
      ]
     },
     "execution_count": 64,
     "metadata": {},
     "output_type": "execute_result"
    }
   ],
   "source": [
    "solution = {}\n",
    "#@lru_cache(maxsize=2**10)\n",
    "def edit_distance(string1, string2):\n",
    "    \n",
    "    if len(string1) == 0: return len(string2)\n",
    "    if len(string2) == 0: return len(string1)\n",
    "    \n",
    "    tail_s1 = string1[-1]\n",
    "    tail_s2 = string2[-1]\n",
    "    \n",
    "    candidates = [\n",
    "        (edit_distance(string1[:-1], string2) + 1, 'DEL {}'.format(tail_s1)),  # string 1 delete tail\n",
    "        (edit_distance(string1, string2[:-1]) + 1, 'ADD {}'.format(tail_s2)),  # string 1 add tail of string2\n",
    "    ]\n",
    "    \n",
    "    if tail_s1 == tail_s2:\n",
    "        both_forward = (edit_distance(string1[:-1], string2[:-1]) + 0, '')\n",
    "    else:\n",
    "        both_forward = (edit_distance(string1[:-1], string2[:-1]) + 1, 'SUB {} => {}'.format(tail_s1, tail_s2))\n",
    "    candidates.append(both_forward)\n",
    "    min_distance, operation = min(candidates, key=lambda x: x[0])\n",
    "    solution[(string1, string2)] = operation \n",
    "    \n",
    "    return min_distance\n",
    "\n",
    "# 解析方案\n",
    "def parse_solution(original_string,target_string, revenue_solution,original_len=1,target_len=1):\n",
    "    pass\n",
    "#     if (original_string[:original_len],target_string[:target_len] not in \\\n",
    "#                         list(set(revenue_solution.keys())):\n",
    "#         raise ('Words are not in the solution!')\n",
    "#     if target_len>len(target_string):\n",
    "#         return\n",
    "#     print(revenue_solution[(original_string[:original_len])])\n",
    "        \n",
    "\n",
    "edit_distance('ABCEF', 'ABCDEFG')\n",
    "    \n",
    "   "
   ]
  },
  {
   "cell_type": "code",
   "execution_count": 85,
   "metadata": {},
   "outputs": [],
   "source": [
    "def parse_solution(str1,str2,solution,len1=1,len2=1):\n",
    "    if len(str1)==0 or len(str2)==0:\n",
    "        raise ValueError('str1 or str2 length cannot be 0!')\n",
    "    if len(str1)==1:\n",
    "        if len2>len(str2):\n",
    "            return\n",
    "        print(solution[(str1,str2[:len2])])\n",
    "        return parse_solution(str1,str2,solution,len1,len2+1)\n",
    "    elif len(str1)<=len(str2):\n",
    "        if len2>len(str2):\n",
    "            return\n",
    "        if str1[:len1]==str2[:len2]:\n",
    "            return parse_solution(str1,str2,solution,len1+1,len2+1)\n",
    "        else:\n",
    "            if len1<len(str1):\n",
    "                print(solution[(str1[:len1],str2[:len2])])\n",
    "                return parse_solution(str1,str2,solution,len1+1,len2+1)\n",
    "            else:\n",
    "                print(solution[(str1[:len1],str2[:len2])])\n",
    "                return parse_solution(str1,str2,solution,len1,len2+1)\n",
    "    else:\n",
    "        if len1>len(str1):\n",
    "            return\n",
    "        if str1[:len1]==str2[:len2]:\n",
    "            return parse_solution(str1,str2,solution,len1+1,len2+1)\n",
    "        else:\n",
    "            if len2<len(str2):\n",
    "                print(solution[(str1[:len1],str2[:len2])])\n",
    "                return parse_solution(str1,str2,solution,len1+1,len2+1)\n",
    "            else:\n",
    "                print(solution[(str1[:len1],str2[:len2])])\n",
    "                return parse_solution(str1,str2,solution,len1,len2+1)"
   ]
  },
  {
   "cell_type": "code",
   "execution_count": 84,
   "metadata": {},
   "outputs": [
    {
     "name": "stdout",
     "output_type": "stream",
     "text": [
      "SUB E => D\n",
      "DEL F\n",
      "\n",
      "ADD G\n"
     ]
    }
   ],
   "source": [
    " parse_solution('ABCEF', 'ABCDEFG',solution)"
   ]
  },
  {
   "cell_type": "code",
   "execution_count": 65,
   "metadata": {},
   "outputs": [
    {
     "data": {
      "text/plain": [
       "{('A', 'A'): '',\n",
       " ('A', 'AB'): 'ADD B',\n",
       " ('A', 'ABC'): 'ADD C',\n",
       " ('A', 'ABCD'): 'ADD D',\n",
       " ('A', 'ABCDE'): 'ADD E',\n",
       " ('A', 'ABCDEF'): 'ADD F',\n",
       " ('A', 'ABCDEFG'): 'ADD G',\n",
       " ('AB', 'A'): 'DEL B',\n",
       " ('AB', 'AB'): '',\n",
       " ('AB', 'ABC'): 'ADD C',\n",
       " ('AB', 'ABCD'): 'ADD D',\n",
       " ('AB', 'ABCDE'): 'ADD E',\n",
       " ('AB', 'ABCDEF'): 'ADD F',\n",
       " ('AB', 'ABCDEFG'): 'ADD G',\n",
       " ('ABC', 'A'): 'DEL C',\n",
       " ('ABC', 'AB'): 'DEL C',\n",
       " ('ABC', 'ABC'): '',\n",
       " ('ABC', 'ABCD'): 'ADD D',\n",
       " ('ABC', 'ABCDE'): 'ADD E',\n",
       " ('ABC', 'ABCDEF'): 'ADD F',\n",
       " ('ABC', 'ABCDEFG'): 'ADD G',\n",
       " ('ABCE', 'A'): 'DEL E',\n",
       " ('ABCE', 'AB'): 'DEL E',\n",
       " ('ABCE', 'ABC'): 'DEL E',\n",
       " ('ABCE', 'ABCD'): 'SUB E => D',\n",
       " ('ABCE', 'ABCDE'): '',\n",
       " ('ABCE', 'ABCDEF'): 'ADD F',\n",
       " ('ABCE', 'ABCDEFG'): 'ADD G',\n",
       " ('ABCEF', 'A'): 'DEL F',\n",
       " ('ABCEF', 'AB'): 'DEL F',\n",
       " ('ABCEF', 'ABC'): 'DEL F',\n",
       " ('ABCEF', 'ABCD'): 'DEL F',\n",
       " ('ABCEF', 'ABCDE'): 'DEL F',\n",
       " ('ABCEF', 'ABCDEF'): '',\n",
       " ('ABCEF', 'ABCDEFG'): 'ADD G'}"
      ]
     },
     "execution_count": 65,
     "metadata": {},
     "output_type": "execute_result"
    }
   ],
   "source": [
    "solution"
   ]
  },
  {
   "cell_type": "code",
   "execution_count": 33,
   "metadata": {},
   "outputs": [],
   "source": [
    "# 替代方案\n",
    "def Edit_Distance(str1, str2):\n",
    "    \"\"\"\n",
    "    计算字符串 str1 和 str2 的编辑距离\n",
    "    :param str1\n",
    "    :param str2\n",
    "    :return:\n",
    "    \"\"\"\n",
    "    matrix = [[ i + j for j in range(len(str2) + 1)] for i in range(len(str1) + 1)]\n",
    "    \n",
    "    for i in range(len(str1)):\n",
    "        matrix[i][0]=i\n",
    "    for j in range(len(str2)):\n",
    "        matrix[0][j]=j\n",
    "\n",
    "    for i in range(1, len(str1)+1):\n",
    "        for j in range(1, len(str2)+1):\n",
    "            if(str1[i-1] == str2[j-1]):\n",
    "                d = 0\n",
    "            else:\n",
    "                d = 1\n",
    "\n",
    "            matrix[i][j] = min(matrix[i-1][j]+1, matrix[i][j-1]+1, matrix[i-1][j-1]+d)\n",
    "\n",
    "    return matrix[len(str1)][len(str2)],matrix\n",
    "\n",
    "\n",
    "\n",
    "distance,matrix=Edit_Distance(\"abc\", \"bd\")"
   ]
  },
  {
   "cell_type": "code",
   "execution_count": 50,
   "metadata": {},
   "outputs": [
    {
     "data": {
      "text/plain": [
       "6"
      ]
     },
     "execution_count": 50,
     "metadata": {},
     "output_type": "execute_result"
    }
   ],
   "source": [
    "distance,matrix=Edit_Distance('JKLSUE', 'EJFUIEL')\n",
    "distance"
   ]
  },
  {
   "cell_type": "markdown",
   "metadata": {},
   "source": [
    "### Part 4 Choose 1 - 2 books to keep reading: \n",
    "\n",
    "+ SICP, Structure and Interpretation of Computer Programming. \n",
    "+ Introduction to Algorithms \n",
    "+ Artificial Intelligence A Modern Approach (3rd Edition) \n",
    "+ Code Complete 2 \n",
    "+ Programming Pearls \n",
    "+ Deep Learning\n",
    "+ 黑客与画家\n",
    "+ 数学之美\n",
    "+ Fluent Python\n",
    "+ Hands on Tensorflow\n",
    "+ Conference: NIPS_ ICML_ ICLR_ ACL_ AAAI\n",
    "\n",
    "> most books you may find in our github: https://github.com/Computing-Intelligence/References"
   ]
  },
  {
   "cell_type": "markdown",
   "metadata": {},
   "source": [
    "## Part 5-1: review machine learning"
   ]
  },
  {
   "cell_type": "markdown",
   "metadata": {},
   "source": [
    "1. Why do we use Derivative / Gredient to fit a target function?¶"
   ]
  },
  {
   "cell_type": "markdown",
   "metadata": {},
   "source": [
    "Ans:Ans:In order to find global/local optimilising value if its gradient has the same direction with its derivative on parameters within a fastest way which we call it as supversied method."
   ]
  },
  {
   "cell_type": "markdown",
   "metadata": {},
   "source": [
    "2. In the words 'Gredient Descent', what's the Gredient and what's the Descent?¶"
   ]
  },
  {
   "cell_type": "markdown",
   "metadata": {},
   "source": [
    "Ans:Gredient is the changing rate of a variable on its forward direction, and 'descent' means that reduction of error value with recursion."
   ]
  },
  {
   "cell_type": "markdown",
   "metadata": {},
   "source": [
    "\n",
    "3. What's the advantages of the 3rd gradient descent method compared to the previous methods?"
   ]
  },
  {
   "cell_type": "markdown",
   "metadata": {},
   "source": [
    "Ans:\n",
    "1. It could help to find global/local minminum value within fastest speed and correct direction.\n",
    "2. Cooperating with learning_rate to control whole calculating procedure in order to find a most accurate result."
   ]
  },
  {
   "cell_type": "markdown",
   "metadata": {},
   "source": [
    "4. Using the simple words to describe: What's the machine leanring.¶"
   ]
  },
  {
   "cell_type": "markdown",
   "metadata": {},
   "source": [
    "Ans: Using statical and mathematical model/theory to simulate human being's thinking in order to resolve complex problems."
   ]
  },
  {
   "cell_type": "markdown",
   "metadata": {},
   "source": [
    "### Part 5: Answer following questions: "
   ]
  },
  {
   "cell_type": "markdown",
   "metadata": {},
   "source": [
    "1. Why do we need dynamic programming? What's the difference of dynamic programming and previous talked `search` problme? \n",
    "\n",
    "Answer:\n",
    "\n",
    "As DP method can store sub-question solutions during its calculating procudures which would be useful to find detailed sequence as a global result for every step."
   ]
  },
  {
   "cell_type": "markdown",
   "metadata": {},
   "source": [
    "2. Why do we still need dynamic programming? Why not we train a machine learning to fit a function which could get the `right` answer based on inputs?\n",
    "\n",
    "Answer:\n",
    "\n",
    "In the statistic section, we have a quiet famous role that Occam's Razor. As some of machine learning methods need a large amount of time where they will have to cost much more time than using simple algorithms. Dynamic programming is one of simple ones. We therefore mainly rely on this method to resolve some problems with quick way."
   ]
  },
  {
   "cell_type": "markdown",
   "metadata": {},
   "source": [
    "3. Can you catch up at least 3 problems which could solved by Dynamic Programming? \n",
    "\n",
    "Answer:\n",
    "1. The question that is recursively solved by sub-questions need more memories on PC;\n",
    "2. If we do not set a stop condition, we then could see a cycle forever;\n",
    "3. Speey sometimes would be slowly."
   ]
  },
  {
   "cell_type": "markdown",
   "metadata": {},
   "source": [
    "4. Can you catch up at least 3 problems wich could sloved by Edit Distance? \n",
    "\n",
    "Answer:\n",
    "1. Map searching for destination with different starting points;\n",
    "2. Predicting next word or set of words by previous specific setence or words;\n",
    "3. Gene detection "
   ]
  },
  {
   "cell_type": "markdown",
   "metadata": {},
   "source": [
    "5. Please summarize the three main features of Dynamic Programming, and make a concise explain for each feature. \n",
    "\n",
    "Answer:\n",
    "1. Parent problem can be solved by different sub-question-->It means that we can use reversion method;\n",
    "2. Every result could be a minimum local value-->Make sure that every step could get optimum value;\n",
    "3. Every sub-question will be calculated one by one--> Result of last sub-question would be whole question's answer."
   ]
  },
  {
   "cell_type": "markdown",
   "metadata": {},
   "source": [
    "6. What's the disadvantages of Dynamic Programming? (You may need search by yourself in Internet)\n",
    "\n",
    "Answer:\n",
    "1. There is no standard models we can simulate;\n",
    "2. It could see Dimension explosion when sequence is quiet large."
   ]
  },
  {
   "cell_type": "markdown",
   "metadata": {},
   "source": [
    "## Part 6 Preparation of Project-01"
   ]
  },
  {
   "cell_type": "markdown",
   "metadata": {},
   "source": [
    "1. Using python Flask or Bottle to finish your first simple web app:\n",
    "> https://bottlepy.org/\n",
    "\n",
    "2. Learn what's the SQL, and try some simple SQL operations:\n",
    "> https://www.w3schools.com/sql/sql_intro.asp\n",
    "\n",
    "3. Learn what's the HTML ( *ONLY* need to know the basic things)\n",
    "> https://getbootstrap.com/; https://www.w3schools.com/html/"
   ]
  },
  {
   "cell_type": "markdown",
   "metadata": {},
   "source": [
    "### (Optinal) Finish the k-person-salesman problem:"
   ]
  },
  {
   "cell_type": "code",
   "execution_count": null,
   "metadata": {},
   "outputs": [],
   "source": [
    "个人想法:\n",
    "是否可以根据有向图拓扑进行逐个搜索(全局搜索),根据点之间的距离搜寻点和点之间的最短距离,然后用动态规划来记录访问过的点和其拓扑节点距离.\n",
    "如果访问过则删去,没访问过就即使记录.直到把每一个点都遍历.(代码有难度...尝试ing...)"
   ]
  },
  {
   "cell_type": "code",
   "execution_count": 1,
   "metadata": {},
   "outputs": [],
   "source": [
    "import random\n",
    "import matplotlib.pylab as plt"
   ]
  },
  {
   "cell_type": "code",
   "execution_count": 20,
   "metadata": {},
   "outputs": [],
   "source": [
    "latitudes = [random.randint(-100, 100) for _ in range(10)]\n",
    "longitude = [random.randint(-100, 100) for _ in range(10)]"
   ]
  },
  {
   "cell_type": "code",
   "execution_count": 6,
   "metadata": {},
   "outputs": [
    {
     "data": {
      "text/plain": [
       "<matplotlib.collections.PathCollection at 0x7fdf07122c18>"
      ]
     },
     "execution_count": 6,
     "metadata": {},
     "output_type": "execute_result"
    },
    {
     "data": {
      "image/png": "[encoded data removed]",
      "text/plain": [
       "<Figure size 432x288 with 1 Axes>"
      ]
     },
     "metadata": {
      "needs_background": "light"
     },
     "output_type": "display_data"
    }
   ],
   "source": [
    "plt.scatter(latitudes, longitude)\n",
    "plt.scatter([latitudes[0]], [longitude[1]], color='r')"
   ]
  },
  {
   "cell_type": "code",
   "execution_count": 151,
   "metadata": {},
   "outputs": [
    {
     "data": {
      "text/plain": [
       "[<matplotlib.lines.Line2D at 0x7fdf06a356d8>]"
      ]
     },
     "execution_count": 151,
     "metadata": {},
     "output_type": "execute_result"
    },
    {
     "data": {
      "image/png": "[encoded data removed]",
      "text/plain": [
       "<Figure size 432x288 with 1 Axes>"
      ]
     },
     "metadata": {
      "needs_background": "light"
     },
     "output_type": "display_data"
    }
   ],
   "source": [
    "import numpy as np\n",
    "from copy import deepcopy\n",
    "import matplotlib.pyplot as plt\n",
    "\n",
    "class Solution:\n",
    "    def __init__(self,length):\n",
    "        self.__latitudes = [random.randint(-100, 100) for _ in range(length)]\n",
    "        self.__longitude = [random.randint(-100, 100) for _ in range(length)]\n",
    "        self.__locations=[(x,y) for x,y in zip(self.__latitudes,self.__longitude)]\n",
    "        self.__location_cities={}\n",
    "        for i in range(len(self.__locations)):\n",
    "            self.__location_cities[i]=self.__locations[i]\n",
    "        self.copy_location_cities=deepcopy(self.__location_cities)\n",
    "\n",
    "    def __cal_distance(self,x,y):\n",
    "        return np.sqrt((x[0]-y[0])**2+(x[1]-y[1])**2)\n",
    "\n",
    "    def distance(self,start):\n",
    "        # 返回指定点到其它点的最短距离\n",
    "        start_to_other={}\n",
    "        for i in list(set(self.__location_cities.keys())):\n",
    "            if i==start:\n",
    "                continue\n",
    "            start_to_other[i]=self.__cal_distance(self.__location_cities[start],self.__location_cities[i])\n",
    "        min_distance=sorted(start_to_other.items(),key=lambda x:x[1])[0]\n",
    "        return min_distance\n",
    "    \n",
    "    def inline(self,start):\n",
    "#         global visited_point,shortest_path\n",
    "        next_point=None\n",
    "            # 计算距离\n",
    "#         if len(list(self.__location_cities.keys()))==0:\n",
    "#             return shortest_path\n",
    "        if  len(list(self.__location_cities.keys()))==1:\n",
    "            return shortest_path,self.copy_location_cities\n",
    "        else:\n",
    "            if start not in visited_point:\n",
    "                min_distance=self.distance(start)\n",
    "                delete=self.__location_cities.pop(start)\n",
    "                shortest_path[start]=min_distance[-1]\n",
    "                next_point=min_distance[0]\n",
    "                return self.inline(next_point)\n",
    "            else:\n",
    "                next_point=shortest_path[start][0]\n",
    "                return self.inline(next_point)\n",
    "shortest_path={}\n",
    "model=Solution(20)\n",
    "shortest_path,location_cities=model.inline(10)\n",
    "final_path=[]\n",
    "for key in list(shortest_path.keys()):\n",
    "    final_path.append(location_cities[key])\n",
    "x=[x[0] for x in final_path]\n",
    "y=[y[-1] for y in final_path]\n",
    "plt.scatter(x, y)\n",
    "plt.scatter(x[0],y[0],color='r')\n",
    "plt.plot(x,y)"
   ]
  },
  {
   "cell_type": "code",
   "execution_count": 148,
   "metadata": {},
   "outputs": [
    {
     "data": {
      "text/plain": [
       "{0: (37, 33),\n",
       " 1: (30, 62),\n",
       " 2: (-25, 29),\n",
       " 3: (-17, -41),\n",
       " 4: (51, -55),\n",
       " 5: (0, 1),\n",
       " 6: (-29, -40),\n",
       " 7: (-64, -37),\n",
       " 8: (-95, 78),\n",
       " 9: (18, -64),\n",
       " 10: (75, 14),\n",
       " 11: (58, -13),\n",
       " 12: (-12, -77),\n",
       " 13: (-55, 29),\n",
       " 14: (-49, 91),\n",
       " 15: (-92, 17),\n",
       " 16: (-13, -55),\n",
       " 17: (45, -14),\n",
       " 18: (-1, 78),\n",
       " 19: (-15, 46)}"
      ]
     },
     "execution_count": 148,
     "metadata": {},
     "output_type": "execute_result"
    }
   ],
   "source": [
    "location_cities"
   ]
  },
  {
   "cell_type": "code",
   "execution_count": 147,
   "metadata": {},
   "outputs": [
    {
     "data": {
      "text/plain": [
       "{10: 31.906112267087632,\n",
       " 11: 13.038404810405298,\n",
       " 17: 41.43669871020132,\n",
       " 4: 34.20526275297414,\n",
       " 9: 32.28002478313795,\n",
       " 16: 14.560219778561036,\n",
       " 3: 12.041594578792296,\n",
       " 6: 35.12833614050059,\n",
       " 7: 60.8276253029822,\n",
       " 15: 38.897300677553446,\n",
       " 13: 30.0,\n",
       " 2: 19.72308292331602,\n",
       " 19: 34.92849839314596,\n",
       " 18: 34.88552708502482,\n",
       " 1: 29.832867780352597,\n",
       " 0: 48.91829923454004,\n",
       " 5: 78.91767862779544,\n",
       " 12: 172.02616080119907,\n",
       " 14: 47.80167361086848}"
      ]
     },
     "execution_count": 147,
     "metadata": {},
     "output_type": "execute_result"
    }
   ],
   "source": [
    "shortest_path"
   ]
  },
  {
   "cell_type": "code",
   "execution_count": 142,
   "metadata": {},
   "outputs": [
    {
     "data": {
      "text/plain": [
       "[-87, -56, 0, -4, 8, 28, 65, 56, 81, 95, 93, 60, 40, 35, 20, 8, 36, 55, -37]"
      ]
     },
     "execution_count": 142,
     "metadata": {},
     "output_type": "execute_result"
    }
   ],
   "source": [
    "x"
   ]
  },
  {
   "cell_type": "code",
   "execution_count": 143,
   "metadata": {},
   "outputs": [
    {
     "data": {
      "text/plain": [
       "[-81,\n",
       " -72,\n",
       " -62,\n",
       " -48,\n",
       " -48,\n",
       " -66,\n",
       " -39,\n",
       " -22,\n",
       " -58,\n",
       " 25,\n",
       " 40,\n",
       " 51,\n",
       " 60,\n",
       " 73,\n",
       " 65,\n",
       " 93,\n",
       " 94,\n",
       " 94,\n",
       " 3]"
      ]
     },
     "execution_count": 143,
     "metadata": {},
     "output_type": "execute_result"
    }
   ],
   "source": [
    "y"
   ]
  },
  {
   "cell_type": "markdown",
   "metadata": {},
   "source": [
    "给定一个初始点 𝑃, 已经有𝑘个车辆，如何从该点出发，经这 k 个车辆经过所有的点全部一次，而且所走过的路程最短?\n",
    "\n",
    "例如："
   ]
  },
  {
   "cell_type": "code",
   "execution_count": 4,
   "metadata": {},
   "outputs": [],
   "source": [
    "chosen_p = (-50, 10)\n",
    "chosen_p2 = (1, 30)\n",
    "chosen_p3 = (99, 15)"
   ]
  },
  {
   "cell_type": "code",
   "execution_count": 5,
   "metadata": {},
   "outputs": [],
   "source": [
    "import matplotlib.pyplot as plt"
   ]
  },
  {
   "cell_type": "code",
   "execution_count": 6,
   "metadata": {
    "scrolled": true
   },
   "outputs": [
    {
     "data": {
      "text/plain": [
       "<matplotlib.collections.PathCollection at 0x7fbd6bb1a4e0>"
      ]
     },
     "execution_count": 6,
     "metadata": {},
     "output_type": "execute_result"
    },
    {
     "data": {
      "image/png": "[encoded data removed]",
      "text/plain": [
       "<Figure size 432x288 with 1 Axes>"
      ]
     },
     "metadata": {
      "needs_background": "light"
     },
     "output_type": "display_data"
    }
   ],
   "source": [
    "plt.scatter(latitudes, longitude)\n",
    "plt.scatter([chosen_p[0]], [chosen_p[1]], color='r')\n",
    "plt.scatter([chosen_p2[0]], [chosen_p2[1]], color='r')\n",
    "plt.scatter([chosen_p3[0]], [chosen_p3[1]], color='r')"
   ]
  },
  {
   "cell_type": "markdown",
   "metadata": {},
   "source": [
    "shuro"
   ]
  }
 ],
 "metadata": {
  "kernelspec": {
   "display_name": "Python 3",
   "language": "python",
   "name": "python3"
  },
  "language_info": {
   "codemirror_mode": {
    "name": "ipython",
    "version": 3
   },
   "file_extension": ".py",
   "mimetype": "text/x-python",
   "name": "python",
   "nbconvert_exporter": "python",
   "pygments_lexer": "ipython3",
   "version": "3.7.0"
  }
 },
 "nbformat": 4,
 "nbformat_minor": 2
}
