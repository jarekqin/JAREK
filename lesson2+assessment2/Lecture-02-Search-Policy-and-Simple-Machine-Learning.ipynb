{
 "cells": [
  {
   "cell_type": "markdown",
   "metadata": {},
   "source": [
    "##### 问题描述\n",
    "\n",
    "大家好，我们在用 networkx 显示中文的时候，会发现不能显示中文。 \n",
    "\n",
    "##### 解决办法\n",
    "\n",
    "1. 下载Github仓库中的字体SimHei.ttf； \n",
    "2. 在 jupyter notebook 中执行\n",
    "```python\n",
    "import matplotlib\n",
    "print(matplotlib.__path__)\n",
    "```\n",
    "找到 matplotlib 的路径，然后 cd 到这个路径。 cd 到这个路径之后，继续 cd，cd 到 mpl-data/fonts/ttf 这个路径。 然后把 `DejaVuSans.ttf` 这个文件换成我们刚刚下在的文件。 \n",
    "\n",
    "```bash\n",
    "$ mv SimHei.ttf DejaVuSans.ttf\n",
    "```\n",
    "\n",
    "其中，用到的 ttf 字体。 我给大家传到附件上了。 "
   ]
  },
  {
   "cell_type": "markdown",
   "metadata": {},
   "source": [
    "Previous Course"
   ]
  },
  {
   "cell_type": "markdown",
   "metadata": {},
   "source": [
    "1. What's the language model? OOV problem? \n",
    "2. Syntax Tree. lambda "
   ]
  },
  {
   "cell_type": "markdown",
   "metadata": {},
   "source": [
    "$$ pr(w) $$"
   ]
  },
  {
   "cell_type": "markdown",
   "metadata": {},
   "source": [
    "## Out of Vocabulary(OOV)"
   ]
  },
  {
   "cell_type": "markdown",
   "metadata": {},
   "source": [
    "Pr(w_o) = constant < Pr(w_1)"
   ]
  },
  {
   "cell_type": "markdown",
   "metadata": {},
   "source": [
    "## Language Model: Smooth"
   ]
  },
  {
   "cell_type": "code",
   "execution_count": 1,
   "metadata": {},
   "outputs": [],
   "source": [
    "import random"
   ]
  },
  {
   "cell_type": "code",
   "execution_count": 5,
   "metadata": {},
   "outputs": [],
   "source": [
    "\"\"\"adj* => adj* adj | adj null\"\"\"\n",
    "\n",
    "def adj():  return random.choice('蓝色的 | 好看的 | 小小的'.split('|')).split()[0]\n",
    "\n",
    "def adj_star_2():\n",
    "     return random.choice([lambda : '', lambda : adj() + adj_star_2()])()\n",
    "\n",
    "def adj_star():\n",
    "    return random.choice(['', ajd() + adj_star()])"
   ]
  },
  {
   "cell_type": "code",
   "execution_count": null,
   "metadata": {},
   "outputs": [],
   "source": [
    "lambda : adj() + adj_star_2()"
   ]
  },
  {
   "cell_type": "code",
   "execution_count": 31,
   "metadata": {},
   "outputs": [],
   "source": [
    "numbers = [1, -2, -4, 1, 5, 6, 9, -11]"
   ]
  },
  {
   "cell_type": "code",
   "execution_count": 36,
   "metadata": {},
   "outputs": [],
   "source": [
    "def absolute(number): \n",
    "    if number < 0: return -1 * number\n",
    "    else:\n",
    "        return number"
   ]
  },
  {
   "cell_type": "code",
   "execution_count": 34,
   "metadata": {},
   "outputs": [
    {
     "data": {
      "text/plain": [
       "11"
      ]
     },
     "execution_count": 34,
     "metadata": {},
     "output_type": "execute_result"
    }
   ],
   "source": [
    "absolute(-11)"
   ]
  },
  {
   "cell_type": "code",
   "execution_count": 37,
   "metadata": {},
   "outputs": [],
   "source": []
  },
  {
   "cell_type": "code",
   "execution_count": 38,
   "metadata": {},
   "outputs": [
    {
     "data": {
      "text/plain": [
       "1"
      ]
     },
     "execution_count": 38,
     "metadata": {},
     "output_type": "execute_result"
    }
   ],
   "source": [
    "mod_5(6)"
   ]
  },
  {
   "cell_type": "code",
   "execution_count": 39,
   "metadata": {},
   "outputs": [
    {
     "data": {
      "text/plain": [
       "2"
      ]
     },
     "execution_count": 39,
     "metadata": {},
     "output_type": "execute_result"
    }
   ],
   "source": [
    "mod_5(7)"
   ]
  },
  {
   "cell_type": "code",
   "execution_count": 41,
   "metadata": {},
   "outputs": [
    {
     "data": {
      "text/plain": [
       "[5, 1, -4, 1, 6, -2, 9, -11]"
      ]
     },
     "execution_count": 41,
     "metadata": {},
     "output_type": "execute_result"
    }
   ],
   "source": [
    "def mod_5(number): \n",
    "    return number % 5\n",
    "\n",
    "sorted(numbers, key=lambda x: x % 5)"
   ]
  },
  {
   "cell_type": "code",
   "execution_count": 42,
   "metadata": {},
   "outputs": [],
   "source": [
    "mod_5_lambda = lambda x: x % 5"
   ]
  },
  {
   "cell_type": "code",
   "execution_count": 43,
   "metadata": {},
   "outputs": [
    {
     "data": {
      "text/plain": [
       "<function __main__.mod_5(number)>"
      ]
     },
     "execution_count": 43,
     "metadata": {},
     "output_type": "execute_result"
    }
   ],
   "source": [
    "mod_5"
   ]
  },
  {
   "cell_type": "code",
   "execution_count": 45,
   "metadata": {},
   "outputs": [
    {
     "data": {
      "text/plain": [
       "4"
      ]
     },
     "execution_count": 45,
     "metadata": {},
     "output_type": "execute_result"
    }
   ],
   "source": [
    "mod_5_lambda(19)"
   ]
  },
  {
   "cell_type": "code",
   "execution_count": 46,
   "metadata": {},
   "outputs": [
    {
     "data": {
      "text/plain": [
       "4"
      ]
     },
     "execution_count": 46,
     "metadata": {},
     "output_type": "execute_result"
    }
   ],
   "source": [
    "mod_5(19)"
   ]
  },
  {
   "cell_type": "code",
   "execution_count": 30,
   "metadata": {},
   "outputs": [
    {
     "data": {
      "text/plain": [
       "'蓝色的'"
      ]
     },
     "execution_count": 30,
     "metadata": {},
     "output_type": "execute_result"
    }
   ],
   "source": [
    "adj_star_2()"
   ]
  },
  {
   "cell_type": "markdown",
   "metadata": {},
   "source": [
    "## Search Policy"
   ]
  },
  {
   "cell_type": "code",
   "execution_count": 48,
   "metadata": {},
   "outputs": [],
   "source": [
    "coordination_source = \"\"\"\n",
    "{name:'兰州', geoCoord:[103.73, 36.03]},\n",
    "{name:'嘉峪关', geoCoord:[98.17, 39.47]},\n",
    "{name:'西宁', geoCoord:[101.74, 36.56]},\n",
    "{name:'成都', geoCoord:[104.06, 30.67]},\n",
    "{name:'石家庄', geoCoord:[114.48, 38.03]},\n",
    "{name:'拉萨', geoCoord:[102.73, 25.04]},\n",
    "{name:'贵阳', geoCoord:[106.71, 26.57]},\n",
    "{name:'武汉', geoCoord:[114.31, 30.52]},\n",
    "{name:'郑州', geoCoord:[113.65, 34.76]},\n",
    "{name:'济南', geoCoord:[117, 36.65]},\n",
    "{name:'南京', geoCoord:[118.78, 32.04]},\n",
    "{name:'合肥', geoCoord:[117.27, 31.86]},\n",
    "{name:'杭州', geoCoord:[120.19, 30.26]},\n",
    "{name:'南昌', geoCoord:[115.89, 28.68]},\n",
    "{name:'福州', geoCoord:[119.3, 26.08]},\n",
    "{name:'广州', geoCoord:[113.23, 23.16]},\n",
    "{name:'长沙', geoCoord:[113, 28.21]},\n",
    "//{name:'海口', geoCoord:[110.35, 20.02]},\n",
    "{name:'沈阳', geoCoord:[123.38, 41.8]},\n",
    "{name:'长春', geoCoord:[125.35, 43.88]},\n",
    "{name:'哈尔滨', geoCoord:[126.63, 45.75]},\n",
    "{name:'太原', geoCoord:[112.53, 37.87]},\n",
    "{name:'西安', geoCoord:[108.95, 34.27]},\n",
    "//{name:'台湾', geoCoord:[121.30, 25.03]},\n",
    "{name:'北京', geoCoord:[116.46, 39.92]},\n",
    "{name:'上海', geoCoord:[121.48, 31.22]},\n",
    "{name:'重庆', geoCoord:[106.54, 29.59]},\n",
    "{name:'天津', geoCoord:[117.2, 39.13]},\n",
    "{name:'呼和浩特', geoCoord:[111.65, 40.82]},\n",
    "{name:'南宁', geoCoord:[108.33, 22.84]},\n",
    "//{name:'西藏', geoCoord:[91.11, 29.97]},\n",
    "{name:'银川', geoCoord:[106.27, 38.47]},\n",
    "{name:'乌鲁木齐', geoCoord:[87.68, 43.77]},\n",
    "{name:'香港', geoCoord:[114.17, 22.28]},\n",
    "{name:'澳门', geoCoord:[113.54, 22.19]}\n",
    "\"\"\""
   ]
  },
  {
   "cell_type": "code",
   "execution_count": 54,
   "metadata": {},
   "outputs": [],
   "source": [
    "city_location = {\n",
    "    '香港': (114.17, 22.28)\n",
    "}"
   ]
  },
  {
   "cell_type": "markdown",
   "metadata": {},
   "source": [
    "Input: String -> dict"
   ]
  },
  {
   "cell_type": "code",
   "execution_count": 55,
   "metadata": {},
   "outputs": [],
   "source": [
    "test_string = \"{name:'兰州', geoCoord:[103.73, 36.03]},\""
   ]
  },
  {
   "cell_type": "code",
   "execution_count": 56,
   "metadata": {},
   "outputs": [],
   "source": [
    "import re"
   ]
  },
  {
   "cell_type": "code",
   "execution_count": 86,
   "metadata": {},
   "outputs": [],
   "source": [
    "pattern = re.compile(r\"name:'(\\w+)',\\s+geoCoord:\\[(\\d+.\\d+),\\s(\\d+.\\d+)\\]\")"
   ]
  },
  {
   "cell_type": "code",
   "execution_count": 93,
   "metadata": {},
   "outputs": [],
   "source": [
    "for line in coordination_source.split('\\n'):\n",
    "    city_info = pattern.findall(line)\n",
    "    if not city_info: continue\n",
    "    \n",
    "    # following: we find the city info\n",
    "    \n",
    "    city, long, lat = city_info[0]\n",
    "    \n",
    "    long, lat = float(long), float(lat)\n",
    "    \n",
    "    city_location[city] = (long, lat)"
   ]
  },
  {
   "cell_type": "code",
   "execution_count": 94,
   "metadata": {},
   "outputs": [
    {
     "data": {
      "text/plain": [
       "{'香港': (114.17, 22.28),\n",
       " '兰州': (103.73, 36.03),\n",
       " '嘉峪关': (98.17, 39.47),\n",
       " '西宁': (101.74, 36.56),\n",
       " '成都': (104.06, 30.67),\n",
       " '石家庄': (114.48, 38.03),\n",
       " '拉萨': (102.73, 25.04),\n",
       " '贵阳': (106.71, 26.57),\n",
       " '武汉': (114.31, 30.52),\n",
       " '郑州': (113.65, 34.76),\n",
       " '济南': (117.0, 36.65),\n",
       " '南京': (118.78, 32.04),\n",
       " '合肥': (117.27, 31.86),\n",
       " '杭州': (120.19, 30.26),\n",
       " '南昌': (115.89, 28.68),\n",
       " '福州': (119.3, 26.08),\n",
       " '广州': (113.23, 23.16),\n",
       " '长沙': (113.0, 28.21),\n",
       " '海口': (110.35, 20.02),\n",
       " '沈阳': (123.38, 41.8),\n",
       " '长春': (125.35, 43.88),\n",
       " '哈尔滨': (126.63, 45.75),\n",
       " '太原': (112.53, 37.87),\n",
       " '西安': (108.95, 34.27),\n",
       " '台湾': (121.3, 25.03),\n",
       " '北京': (116.46, 39.92),\n",
       " '上海': (121.48, 31.22),\n",
       " '重庆': (106.54, 29.59),\n",
       " '天津': (117.2, 39.13),\n",
       " '呼和浩特': (111.65, 40.82),\n",
       " '南宁': (108.33, 22.84),\n",
       " '西藏': (91.11, 29.97),\n",
       " '银川': (106.27, 38.47),\n",
       " '乌鲁木齐': (87.68, 43.77),\n",
       " '澳门': (113.54, 22.19)}"
      ]
     },
     "execution_count": 94,
     "metadata": {},
     "output_type": "execute_result"
    }
   ],
   "source": [
    "city_location"
   ]
  },
  {
   "cell_type": "code",
   "execution_count": 89,
   "metadata": {},
   "outputs": [],
   "source": [
    "import math"
   ]
  },
  {
   "cell_type": "code",
   "execution_count": 90,
   "metadata": {},
   "outputs": [],
   "source": [
    "def geo_distance(origin, destination):\n",
    "    \"\"\"\n",
    "    Calculate the Haversine distance.\n",
    "\n",
    "    Parameters\n",
    "    ----------\n",
    "    origin : tuple of float\n",
    "        (lat, long)\n",
    "    destination : tuple of float\n",
    "        (lat, long)\n",
    "\n",
    "    Returns\n",
    "    -------\n",
    "    distance_in_km : float\n",
    "\n",
    "    Examples\n",
    "    --------\n",
    "    >>> origin = (48.1372, 11.5756)  # Munich\n",
    "    >>> destination = (52.5186, 13.4083)  # Berlin\n",
    "    >>> round(distance(origin, destination), 1)\n",
    "    504.2\n",
    "    \"\"\"\n",
    "    lat1, lon1 = origin\n",
    "    lat2, lon2 = destination\n",
    "    radius = 6371  # km\n",
    "\n",
    "    dlat = math.radians(lat2 - lat1)\n",
    "    dlon = math.radians(lon2 - lon1)\n",
    "    a = (math.sin(dlat / 2) * math.sin(dlat / 2) +\n",
    "         math.cos(math.radians(lat1)) * math.cos(math.radians(lat2)) *\n",
    "         math.sin(dlon / 2) * math.sin(dlon / 2))\n",
    "    c = 2 * math.atan2(math.sqrt(a), math.sqrt(1 - a))\n",
    "    d = radius * c\n",
    "\n",
    "    return d"
   ]
  },
  {
   "cell_type": "code",
   "execution_count": 91,
   "metadata": {},
   "outputs": [],
   "source": [
    "def get_geo_distance(city1, city2):\n",
    "    return geo_distance(city_location[city1], city_location[city2])"
   ]
  },
  {
   "cell_type": "code",
   "execution_count": 95,
   "metadata": {},
   "outputs": [
    {
     "data": {
      "text/plain": [
       "153.5185697155768"
      ]
     },
     "execution_count": 95,
     "metadata": {},
     "output_type": "execute_result"
    }
   ],
   "source": [
    "get_geo_distance('上海', '杭州')"
   ]
  },
  {
   "cell_type": "code",
   "execution_count": 96,
   "metadata": {},
   "outputs": [],
   "source": [
    "import networkx as nx"
   ]
  },
  {
   "cell_type": "code",
   "execution_count": 114,
   "metadata": {},
   "outputs": [],
   "source": [
    "city_graph = nx.Graph()"
   ]
  },
  {
   "cell_type": "code",
   "execution_count": 115,
   "metadata": {},
   "outputs": [],
   "source": [
    "city_graph.add_nodes_from(list(city_location.keys()))"
   ]
  },
  {
   "cell_type": "code",
   "execution_count": 106,
   "metadata": {},
   "outputs": [],
   "source": [
    "%matplotlib inline"
   ]
  },
  {
   "cell_type": "code",
   "execution_count": 109,
   "metadata": {},
   "outputs": [],
   "source": [
    "import matplotlib.pyplot as plt"
   ]
  },
  {
   "cell_type": "code",
   "execution_count": 120,
   "metadata": {},
   "outputs": [
    {
     "data": {
      "image/png": "[encoded data removed]",
      "text/plain": [
       "<Figure size 432x288 with 1 Axes>"
      ]
     },
     "metadata": {},
     "output_type": "display_data"
    }
   ],
   "source": [
    "nx.draw(city_graph, city_location, with_labels=True, node_size=30)"
   ]
  },
  {
   "cell_type": "code",
   "execution_count": 205,
   "metadata": {},
   "outputs": [],
   "source": [
    "threshold = 300"
   ]
  },
  {
   "cell_type": "code",
   "execution_count": 208,
   "metadata": {},
   "outputs": [],
   "source": [
    "city_connection = defaultdict(list)"
   ]
  },
  {
   "cell_type": "code",
   "execution_count": 211,
   "metadata": {},
   "outputs": [],
   "source": [
    "for c1 in city_location:\n",
    "    for c2 in city_location:\n",
    "        if c1 == c2: continue\n",
    "        \n",
    "        distance = get_geo_distance(c1, c2)\n",
    "        \n",
    "        if distance < threshold:\n",
    "            city_connection[c1].append(c2)\n",
    "            city_connection[c2].append(c1)"
   ]
  },
  {
   "cell_type": "code",
   "execution_count": 212,
   "metadata": {},
   "outputs": [
    {
     "data": {
      "text/plain": [
       "defaultdict(list,\n",
       "            {'香港': ['广州',\n",
       "              '长沙',\n",
       "              '澳门',\n",
       "              '广州',\n",
       "              '长沙',\n",
       "              '澳门',\n",
       "              '广州',\n",
       "              '长沙',\n",
       "              '澳门',\n",
       "              '广州',\n",
       "              '长沙',\n",
       "              '澳门'],\n",
       "             '广州': ['香港',\n",
       "              '香港',\n",
       "              '长沙',\n",
       "              '澳门',\n",
       "              '长沙',\n",
       "              '澳门',\n",
       "              '香港',\n",
       "              '香港',\n",
       "              '长沙',\n",
       "              '澳门',\n",
       "              '长沙',\n",
       "              '澳门'],\n",
       "             '长沙': ['香港',\n",
       "              '武汉',\n",
       "              '郑州',\n",
       "              '广州',\n",
       "              '香港',\n",
       "              '武汉',\n",
       "              '郑州',\n",
       "              '广州',\n",
       "              '澳门',\n",
       "              '澳门',\n",
       "              '香港',\n",
       "              '武汉',\n",
       "              '郑州',\n",
       "              '广州',\n",
       "              '香港',\n",
       "              '武汉',\n",
       "              '郑州',\n",
       "              '广州',\n",
       "              '澳门',\n",
       "              '澳门'],\n",
       "             '澳门': ['香港',\n",
       "              '广州',\n",
       "              '长沙',\n",
       "              '香港',\n",
       "              '广州',\n",
       "              '长沙',\n",
       "              '香港',\n",
       "              '广州',\n",
       "              '长沙',\n",
       "              '香港',\n",
       "              '广州',\n",
       "              '长沙'],\n",
       "             '兰州': ['西宁',\n",
       "              '成都',\n",
       "              '银川',\n",
       "              '西宁',\n",
       "              '成都',\n",
       "              '银川',\n",
       "              '西宁',\n",
       "              '成都',\n",
       "              '银川',\n",
       "              '西宁',\n",
       "              '成都',\n",
       "              '银川'],\n",
       "             '西宁': ['兰州',\n",
       "              '兰州',\n",
       "              '成都',\n",
       "              '拉萨',\n",
       "              '成都',\n",
       "              '拉萨',\n",
       "              '兰州',\n",
       "              '兰州',\n",
       "              '成都',\n",
       "              '拉萨',\n",
       "              '成都',\n",
       "              '拉萨'],\n",
       "             '成都': ['兰州',\n",
       "              '西宁',\n",
       "              '兰州',\n",
       "              '西宁',\n",
       "              '拉萨',\n",
       "              '重庆',\n",
       "              '拉萨',\n",
       "              '重庆',\n",
       "              '兰州',\n",
       "              '西宁',\n",
       "              '兰州',\n",
       "              '西宁',\n",
       "              '拉萨',\n",
       "              '重庆',\n",
       "              '拉萨',\n",
       "              '重庆'],\n",
       "             '银川': ['兰州', '重庆', '兰州', '重庆', '兰州', '重庆', '兰州', '重庆'],\n",
       "             '拉萨': ['西宁', '成都', '西宁', '成都', '西宁', '成都', '西宁', '成都'],\n",
       "             '重庆': ['成都',\n",
       "              '贵阳',\n",
       "              '成都',\n",
       "              '贵阳',\n",
       "              '银川',\n",
       "              '银川',\n",
       "              '成都',\n",
       "              '贵阳',\n",
       "              '成都',\n",
       "              '贵阳',\n",
       "              '银川',\n",
       "              '银川'],\n",
       "             '石家庄': ['郑州',\n",
       "              '济南',\n",
       "              '太原',\n",
       "              '北京',\n",
       "              '郑州',\n",
       "              '济南',\n",
       "              '太原',\n",
       "              '北京',\n",
       "              '郑州',\n",
       "              '济南',\n",
       "              '太原',\n",
       "              '北京',\n",
       "              '郑州',\n",
       "              '济南',\n",
       "              '太原',\n",
       "              '北京'],\n",
       "             '郑州': ['石家庄',\n",
       "              '武汉',\n",
       "              '石家庄',\n",
       "              '武汉',\n",
       "              '长沙',\n",
       "              '太原',\n",
       "              '长沙',\n",
       "              '太原',\n",
       "              '石家庄',\n",
       "              '武汉',\n",
       "              '石家庄',\n",
       "              '武汉',\n",
       "              '长沙',\n",
       "              '太原',\n",
       "              '长沙',\n",
       "              '太原'],\n",
       "             '济南': ['石家庄',\n",
       "              '石家庄',\n",
       "              '合肥',\n",
       "              '北京',\n",
       "              '天津',\n",
       "              '合肥',\n",
       "              '北京',\n",
       "              '天津',\n",
       "              '石家庄',\n",
       "              '石家庄',\n",
       "              '合肥',\n",
       "              '北京',\n",
       "              '天津',\n",
       "              '合肥',\n",
       "              '北京',\n",
       "              '天津'],\n",
       "             '太原': ['石家庄',\n",
       "              '郑州',\n",
       "              '石家庄',\n",
       "              '郑州',\n",
       "              '呼和浩特',\n",
       "              '呼和浩特',\n",
       "              '石家庄',\n",
       "              '郑州',\n",
       "              '石家庄',\n",
       "              '郑州',\n",
       "              '呼和浩特',\n",
       "              '呼和浩特'],\n",
       "             '北京': ['石家庄',\n",
       "              '济南',\n",
       "              '石家庄',\n",
       "              '济南',\n",
       "              '天津',\n",
       "              '天津',\n",
       "              '石家庄',\n",
       "              '济南',\n",
       "              '石家庄',\n",
       "              '济南',\n",
       "              '天津',\n",
       "              '天津'],\n",
       "             '贵阳': ['重庆', '南宁', '重庆', '南宁', '重庆', '南宁', '重庆', '南宁'],\n",
       "             '南宁': ['贵阳', '海口', '贵阳', '海口', '贵阳', '海口', '贵阳', '海口'],\n",
       "             '武汉': ['郑州',\n",
       "              '南昌',\n",
       "              '长沙',\n",
       "              '郑州',\n",
       "              '南昌',\n",
       "              '长沙',\n",
       "              '郑州',\n",
       "              '南昌',\n",
       "              '长沙',\n",
       "              '郑州',\n",
       "              '南昌',\n",
       "              '长沙'],\n",
       "             '南昌': ['武汉', '合肥', '武汉', '合肥', '武汉', '合肥', '武汉', '合肥'],\n",
       "             '合肥': ['济南',\n",
       "              '南京',\n",
       "              '济南',\n",
       "              '南京',\n",
       "              '南昌',\n",
       "              '南昌',\n",
       "              '济南',\n",
       "              '南京',\n",
       "              '济南',\n",
       "              '南京',\n",
       "              '南昌',\n",
       "              '南昌'],\n",
       "             '天津': ['济南', '北京', '济南', '北京', '济南', '北京', '济南', '北京'],\n",
       "             '南京': ['合肥', '杭州', '合肥', '杭州', '合肥', '杭州', '合肥', '杭州'],\n",
       "             '杭州': ['南京',\n",
       "              '南京',\n",
       "              '福州',\n",
       "              '上海',\n",
       "              '福州',\n",
       "              '上海',\n",
       "              '南京',\n",
       "              '南京',\n",
       "              '福州',\n",
       "              '上海',\n",
       "              '福州',\n",
       "              '上海'],\n",
       "             '福州': ['杭州', '杭州', '台湾', '台湾', '杭州', '杭州', '台湾', '台湾'],\n",
       "             '上海': ['杭州', '杭州', '杭州', '杭州'],\n",
       "             '台湾': ['福州', '福州', '福州', '福州'],\n",
       "             '海口': ['南宁', '南宁', '南宁', '南宁'],\n",
       "             '沈阳': ['长春', '长春', '长春', '长春'],\n",
       "             '长春': ['沈阳', '沈阳', '哈尔滨', '哈尔滨', '沈阳', '沈阳', '哈尔滨', '哈尔滨'],\n",
       "             '哈尔滨': ['长春', '长春', '长春', '长春'],\n",
       "             '呼和浩特': ['太原', '太原', '太原', '太原']})"
      ]
     },
     "execution_count": 212,
     "metadata": {},
     "output_type": "execute_result"
    }
   ],
   "source": [
    "city_connection"
   ]
  },
  {
   "cell_type": "code",
   "execution_count": 213,
   "metadata": {},
   "outputs": [],
   "source": [
    "city_with_road = nx.Graph(city_connection)"
   ]
  },
  {
   "cell_type": "code",
   "execution_count": 214,
   "metadata": {},
   "outputs": [
    {
     "name": "stderr",
     "output_type": "stream",
     "text": [
      "/Users/gaominquan/anaconda3/lib/python3.7/site-packages/networkx/drawing/nx_pylab.py:611: MatplotlibDeprecationWarning: isinstance(..., numbers.Number)\n",
      "  if cb.is_numlike(alpha):\n"
     ]
    },
    {
     "data": {
      "image/png": "[encoded data removed]",
      "text/plain": [
       "<Figure size 432x288 with 1 Axes>"
      ]
     },
     "metadata": {},
     "output_type": "display_data"
    }
   ],
   "source": [
    "nx.draw(city_with_road, city_location, with_labels=True, node_size=30)"
   ]
  },
  {
   "cell_type": "code",
   "execution_count": null,
   "metadata": {},
   "outputs": [],
   "source": [
    "g"
   ]
  },
  {
   "cell_type": "code",
   "execution_count": 147,
   "metadata": {},
   "outputs": [],
   "source": [
    "from collections import defaultdict"
   ]
  },
  {
   "cell_type": "code",
   "execution_count": 148,
   "metadata": {},
   "outputs": [],
   "source": [
    "simple_connection_info_src = {\n",
    "    '北京': ['太原', '沈阳'],\n",
    "    '太原': ['北京', '西安', '郑州'],\n",
    "    '兰州': ['西安'],\n",
    "    '郑州': ['太原'],\n",
    "    '西安': ['兰州', '长沙'],\n",
    "    '长沙': ['福州', '南宁'],\n",
    "    '沈阳': ['北京']\n",
    "}"
   ]
  },
  {
   "cell_type": "code",
   "execution_count": 149,
   "metadata": {},
   "outputs": [],
   "source": [
    "simple_connection_info = defaultdict(list)"
   ]
  },
  {
   "cell_type": "code",
   "execution_count": 150,
   "metadata": {},
   "outputs": [],
   "source": [
    "simple_connection_info.update(simple_connection_info_src)"
   ]
  },
  {
   "cell_type": "code",
   "execution_count": 198,
   "metadata": {},
   "outputs": [],
   "source": [
    "def bfs(graph, start):\n",
    "    \"\"\"\n",
    "    breath first search\n",
    "    \"\"\"\n",
    "    visited = [start]\n",
    "    \n",
    "    seen = set()\n",
    "    \n",
    "    while visited:\n",
    "        froninter = visited.pop() #\n",
    "        \n",
    "        if froninter in seen: continue\n",
    "        \n",
    "        for successor in graph[froninter]:\n",
    "            if successor in seen: continue\n",
    "            print(successor)\n",
    "            \n",
    "            #visited = visited + [successor] # 我们每次扩展都扩展最新发现的点 -> depth first\n",
    "            visited = [successor] + visited # 我们每次扩展都先考虑已经发现的 老的点 -> breath first\n",
    "            \n",
    "            # 所以说，这个扩展顺序其实是决定了我们的深度优先还是广度优先\n",
    "    \n",
    "        seen.add(froninter)\n",
    "    \n",
    "    return seen"
   ]
  },
  {
   "cell_type": "code",
   "execution_count": 202,
   "metadata": {},
   "outputs": [],
   "source": [
    "number_grpah = defaultdict(list)\n",
    "\n",
    "number_grpah.update({\n",
    "    1: [2, 3],\n",
    "    2: [1, 4], \n",
    "    3: [1, 5],\n",
    "    4: [2, 6], \n",
    "    5: [3, 7],\n",
    "    7: [5, 8]\n",
    "})"
   ]
  },
  {
   "cell_type": "code",
   "execution_count": 203,
   "metadata": {},
   "outputs": [
    {
     "name": "stdout",
     "output_type": "stream",
     "text": [
      "2\n",
      "3\n",
      "4\n",
      "5\n",
      "6\n",
      "7\n",
      "8\n"
     ]
    },
    {
     "data": {
      "text/plain": [
       "{1, 2, 3, 4, 5, 6, 7, 8}"
      ]
     },
     "execution_count": 203,
     "metadata": {},
     "output_type": "execute_result"
    }
   ],
   "source": [
    "bfs(number_grpah, 1)"
   ]
  },
  {
   "cell_type": "code",
   "execution_count": 201,
   "metadata": {},
   "outputs": [
    {
     "data": {
      "text/plain": [
       "['兰州', '长沙']"
      ]
     },
     "execution_count": 201,
     "metadata": {},
     "output_type": "execute_result"
    }
   ],
   "source": [
    "simple_connection_info['西安']"
   ]
  },
  {
   "cell_type": "code",
   "execution_count": 128,
   "metadata": {},
   "outputs": [
    {
     "name": "stderr",
     "output_type": "stream",
     "text": [
      "/Users/gaominquan/anaconda3/lib/python3.7/site-packages/networkx/drawing/nx_pylab.py:611: MatplotlibDeprecationWarning: isinstance(..., numbers.Number)\n",
      "  if cb.is_numlike(alpha):\n"
     ]
    },
    {
     "data": {
      "image/png": "[encoded data removed]",
      "text/plain": [
       "<Figure size 432x288 with 1 Axes>"
      ]
     },
     "metadata": {},
     "output_type": "display_data"
    }
   ],
   "source": [
    "nx.draw(nx.Graph(simple_connection_info), city_location, with_labels=True, node_size=10)"
   ]
  },
  {
   "cell_type": "code",
   "execution_count": 253,
   "metadata": {},
   "outputs": [],
   "source": [
    "def search(start, destination, connection_grpah, sort_candidate):\n",
    "    pathes = [[start]]\n",
    "    \n",
    "    visitied = set()\n",
    "    \n",
    "    while pathes: # if we find existing pathes\n",
    "        path = pathes.pop(0)\n",
    "        froninter = path[-1]\n",
    "        \n",
    "        if froninter in visitied: continue\n",
    "            \n",
    "        successors = connection_grpah[froninter]\n",
    "        \n",
    "        for city in successors:\n",
    "            if city in path: continue  # eliminate loop\n",
    "                \n",
    "            new_path = path + [city]\n",
    "            \n",
    "            pathes.append(new_path)\n",
    "            \n",
    "            if city == destination: return new_path\n",
    "        \n",
    "        visitied.add(froninter)\n",
    "        \n",
    "        pathes = sort_candidate(pathes) # 我们可以加一个排序函数 对我们的搜索策略进行控制"
   ]
  },
  {
   "cell_type": "code",
   "execution_count": 243,
   "metadata": {},
   "outputs": [],
   "source": [
    "def transfer_stations_first(pathes): \n",
    "    return sorted(pathes, key=len)"
   ]
  },
  {
   "cell_type": "code",
   "execution_count": 250,
   "metadata": {},
   "outputs": [],
   "source": [
    "def transfer_as_much_possible(pathes):\n",
    "    return sorted(pathes, key=len, reverse=True)"
   ]
  },
  {
   "cell_type": "code",
   "execution_count": 246,
   "metadata": {},
   "outputs": [],
   "source": [
    "def shortest_path_first(pathes):\n",
    "    \n",
    "    if len(pathes) <= 1: return pathes\n",
    "    \n",
    "    def get_path_distnace(path):\n",
    "        distance = 0\n",
    "        for station in path[:-1]:\n",
    "            distance += get_geo_distance(station, path[-1])\n",
    "            \n",
    "        return distance\n",
    "\n",
    "    return sorted(pathes, key=get_path_distnace)"
   ]
  },
  {
   "cell_type": "code",
   "execution_count": 237,
   "metadata": {},
   "outputs": [
    {
     "data": {
      "text/plain": [
       "['兰州', '西安', '长沙', '福州']"
      ]
     },
     "execution_count": 237,
     "metadata": {},
     "output_type": "execute_result"
    }
   ],
   "source": [
    "search('兰州', '福州', simple_connection_info, sort_candidate=shortest_path_first)"
   ]
  },
  {
   "cell_type": "code",
   "execution_count": 142,
   "metadata": {},
   "outputs": [],
   "source": [
    "def pretty_print(cities):\n",
    "    print('🚗->'.join(cities))"
   ]
  },
  {
   "cell_type": "code",
   "execution_count": 204,
   "metadata": {},
   "outputs": [
    {
     "name": "stdout",
     "output_type": "stream",
     "text": [
      "北京🚗->太原🚗->西安🚗->长沙🚗->福州\n"
     ]
    }
   ],
   "source": [
    "pretty_print(search('北京', '福州', simple_connection_info))"
   ]
  },
  {
   "cell_type": "markdown",
   "metadata": {},
   "source": [
    "## Breath first search"
   ]
  },
  {
   "cell_type": "markdown",
   "metadata": {},
   "source": [
    "## Depth first search"
   ]
  },
  {
   "cell_type": "code",
   "execution_count": 216,
   "metadata": {},
   "outputs": [
    {
     "name": "stdout",
     "output_type": "stream",
     "text": [
      "北京🚗->济南🚗->合肥🚗->南京\n"
     ]
    }
   ],
   "source": [
    "pretty_print(search('北京', '南京', city_connection))"
   ]
  },
  {
   "cell_type": "code",
   "execution_count": 217,
   "metadata": {},
   "outputs": [
    {
     "name": "stdout",
     "output_type": "stream",
     "text": [
      "北京🚗->石家庄🚗->郑州🚗->长沙\n"
     ]
    }
   ],
   "source": [
    "pretty_print(search('北京', '长沙', city_connection))"
   ]
  },
  {
   "cell_type": "code",
   "execution_count": 249,
   "metadata": {},
   "outputs": [
    {
     "name": "stdout",
     "output_type": "stream",
     "text": [
      "北京🚗->石家庄🚗->郑州🚗->长沙🚗->广州\n"
     ]
    }
   ],
   "source": [
    "pretty_print(search('北京', '广州', city_connection, sort_candidate=transfer_stations_first))"
   ]
  },
  {
   "cell_type": "code",
   "execution_count": 251,
   "metadata": {},
   "outputs": [
    {
     "name": "stdout",
     "output_type": "stream",
     "text": [
      "北京🚗->石家庄🚗->郑州🚗->武汉🚗->长沙🚗->广州\n"
     ]
    }
   ],
   "source": [
    "pretty_print(search('北京', '广州', city_connection, sort_candidate=transfer_as_much_possible))"
   ]
  },
  {
   "cell_type": "markdown",
   "metadata": {},
   "source": [
    "## Assignment"
   ]
  },
  {
   "cell_type": "markdown",
   "metadata": {},
   "source": [
    "1. 网络爬虫 + 正则\n",
    "2. 数据处理\n",
    "3. 算法的应用能力"
   ]
  },
  {
   "cell_type": "code",
   "execution_count": 254,
   "metadata": {},
   "outputs": [],
   "source": [
    "import requests"
   ]
  },
  {
   "cell_type": "code",
   "execution_count": 255,
   "metadata": {},
   "outputs": [],
   "source": [
    "url = 'https://movie.douban.com/subject/26931786/?from=showing'"
   ]
  },
  {
   "cell_type": "code",
   "execution_count": 257,
   "metadata": {},
   "outputs": [],
   "source": [
    "response = requests.get(url)"
   ]
  },
  {
   "cell_type": "code",
   "execution_count": 270,
   "metadata": {},
   "outputs": [],
   "source": [
    "what_we_want = r'<a href=\"https://(movie\\.douban\\.com/subject/\\d+/\\?from=subject-page)\" class=\"\" '"
   ]
  },
  {
   "cell_type": "code",
   "execution_count": 271,
   "metadata": {},
   "outputs": [],
   "source": [
    "pattern = re.compile(what_we_want)"
   ]
  },
  {
   "cell_type": "code",
   "execution_count": 272,
   "metadata": {},
   "outputs": [],
   "source": [
    "likes = pattern.findall(response.text)"
   ]
  },
  {
   "cell_type": "code",
   "execution_count": 273,
   "metadata": {},
   "outputs": [
    {
     "name": "stdout",
     "output_type": "stream",
     "text": [
      "movie.douban.com/subject/24753477/?from=subject-page\n",
      "movie.douban.com/subject/26100958/?from=subject-page\n",
      "movie.douban.com/subject/25820460/?from=subject-page\n",
      "movie.douban.com/subject/1432146/?from=subject-page\n",
      "movie.douban.com/subject/25937854/?from=subject-page\n",
      "movie.douban.com/subject/1866473/?from=subject-page\n",
      "movie.douban.com/subject/25821634/?from=subject-page\n",
      "movie.douban.com/subject/26213252/?from=subject-page\n",
      "movie.douban.com/subject/25828589/?from=subject-page\n",
      "movie.douban.com/subject/4920389/?from=subject-page\n"
     ]
    }
   ],
   "source": [
    "for like in likes:\n",
    "    print(like)"
   ]
  },
  {
   "cell_type": "markdown",
   "metadata": {},
   "source": [
    "## Machine Learning"
   ]
  },
  {
   "cell_type": "code",
   "execution_count": 4,
   "metadata": {},
   "outputs": [],
   "source": [
    "from sklearn.datasets import load_boston"
   ]
  },
  {
   "cell_type": "code",
   "execution_count": 5,
   "metadata": {},
   "outputs": [],
   "source": [
    "data = load_boston()"
   ]
  },
  {
   "cell_type": "code",
   "execution_count": 6,
   "metadata": {},
   "outputs": [],
   "source": [
    "X, y = data['data'], data['target']"
   ]
  },
  {
   "cell_type": "code",
   "execution_count": 7,
   "metadata": {},
   "outputs": [
    {
     "data": {
      "text/plain": [
       "array([2.7310e-02, 0.0000e+00, 7.0700e+00, 0.0000e+00, 4.6900e-01,\n",
       "       6.4210e+00, 7.8900e+01, 4.9671e+00, 2.0000e+00, 2.4200e+02,\n",
       "       1.7800e+01, 3.9690e+02, 9.1400e+00])"
      ]
     },
     "execution_count": 7,
     "metadata": {},
     "output_type": "execute_result"
    }
   ],
   "source": [
    "X[1]"
   ]
  },
  {
   "cell_type": "code",
   "execution_count": 8,
   "metadata": {},
   "outputs": [
    {
     "data": {
      "text/plain": [
       "21.6"
      ]
     },
     "execution_count": 8,
     "metadata": {},
     "output_type": "execute_result"
    }
   ],
   "source": [
    "y[1]"
   ]
  },
  {
   "cell_type": "code",
   "execution_count": 9,
   "metadata": {},
   "outputs": [
    {
     "data": {
      "text/plain": [
       "506"
      ]
     },
     "execution_count": 9,
     "metadata": {},
     "output_type": "execute_result"
    }
   ],
   "source": [
    "len(X[:, 0])"
   ]
  },
  {
   "cell_type": "code",
   "execution_count": 10,
   "metadata": {},
   "outputs": [
    {
     "data": {
      "text/plain": [
       "506"
      ]
     },
     "execution_count": 10,
     "metadata": {},
     "output_type": "execute_result"
    }
   ],
   "source": [
    "len(y)"
   ]
  },
  {
   "cell_type": "code",
   "execution_count": 11,
   "metadata": {},
   "outputs": [],
   "source": [
    "%matplotlib inline"
   ]
  },
  {
   "cell_type": "code",
   "execution_count": 12,
   "metadata": {},
   "outputs": [],
   "source": [
    "import matplotlib.pyplot as plt"
   ]
  },
  {
   "cell_type": "code",
   "execution_count": 13,
   "metadata": {},
   "outputs": [],
   "source": [
    "def draw_rm_and_price():\n",
    "    plt.scatter(X[:, 5], y)"
   ]
  },
  {
   "cell_type": "code",
   "execution_count": 14,
   "metadata": {},
   "outputs": [
    {
     "data": {
      "image/png": "[encoded data removed]",
      "text/plain": [
       "<Figure size 432x288 with 1 Axes>"
      ]
     },
     "metadata": {
      "needs_background": "light"
     },
     "output_type": "display_data"
    }
   ],
   "source": [
    "draw_rm_and_price()"
   ]
  },
  {
   "cell_type": "code",
   "execution_count": 15,
   "metadata": {},
   "outputs": [],
   "source": [
    "import random"
   ]
  },
  {
   "cell_type": "code",
   "execution_count": 16,
   "metadata": {},
   "outputs": [],
   "source": [
    "def price(rm, k, b):\n",
    "    \"\"\"f(x) = k * x + b\"\"\"\n",
    "    return k * rm + b  "
   ]
  },
  {
   "cell_type": "code",
   "execution_count": 17,
   "metadata": {},
   "outputs": [
    {
     "data": {
      "text/plain": [
       "<matplotlib.collections.PathCollection at 0x7f8867129240>"
      ]
     },
     "execution_count": 17,
     "metadata": {},
     "output_type": "execute_result"
    },
    {
     "data": {
      "image/png": "[encoded data removed]",
      "text/plain": [
       "<Figure size 432x288 with 1 Axes>"
      ]
     },
     "metadata": {
      "needs_background": "light"
     },
     "output_type": "display_data"
    }
   ],
   "source": [
    "X_rm = X[:, 5]\n",
    "k = random.randint(-100, 100)\n",
    "b = random.randint(-100, 100)\n",
    "price_by_random_k_and_b = [price(r, k, b) for r in X_rm]\n",
    "\n",
    "draw_rm_and_price()\n",
    "plt.scatter(X_rm, price_by_random_k_and_b)"
   ]
  },
  {
   "cell_type": "code",
   "execution_count": 18,
   "metadata": {},
   "outputs": [
    {
     "data": {
      "text/plain": [
       "<matplotlib.collections.PathCollection at 0x7f8867110160>"
      ]
     },
     "execution_count": 18,
     "metadata": {},
     "output_type": "execute_result"
    },
    {
     "data": {
      "image/png": "[encoded data removed]",
      "text/plain": [
       "<Figure size 432x288 with 1 Axes>"
      ]
     },
     "metadata": {
      "needs_background": "light"
     },
     "output_type": "display_data"
    }
   ],
   "source": [
    "X_rm = X[:, 5]\n",
    "k = random.randint(-100, 100)\n",
    "b = random.randint(-100, 100)\n",
    "price_by_random_k_and_b = [price(r, k, b) for r in X_rm]\n",
    "\n",
    "draw_rm_and_price()\n",
    "plt.scatter(X_rm, price_by_random_k_and_b)"
   ]
  },
  {
   "cell_type": "markdown",
   "metadata": {},
   "source": [
    "$$ \\hat{y} $$"
   ]
  },
  {
   "cell_type": "code",
   "execution_count": 19,
   "metadata": {},
   "outputs": [
    {
     "data": {
      "text/plain": [
       "[24.0,\n",
       " 21.6,\n",
       " 34.7,\n",
       " 33.4,\n",
       " 36.2,\n",
       " 28.7,\n",
       " 22.9,\n",
       " 27.1,\n",
       " 16.5,\n",
       " 18.9,\n",
       " 15.0,\n",
       " 18.9,\n",
       " 21.7,\n",
       " 20.4,\n",
       " 18.2,\n",
       " 19.9,\n",
       " 23.1,\n",
       " 17.5,\n",
       " 20.2,\n",
       " 18.2,\n",
       " 13.6,\n",
       " 19.6,\n",
       " 15.2,\n",
       " 14.5,\n",
       " 15.6,\n",
       " 13.9,\n",
       " 16.6,\n",
       " 14.8,\n",
       " 18.4,\n",
       " 21.0,\n",
       " 12.7,\n",
       " 14.5,\n",
       " 13.2,\n",
       " 13.1,\n",
       " 13.5,\n",
       " 18.9,\n",
       " 20.0,\n",
       " 21.0,\n",
       " 24.7,\n",
       " 30.8,\n",
       " 34.9,\n",
       " 26.6,\n",
       " 25.3,\n",
       " 24.7,\n",
       " 21.2,\n",
       " 19.3,\n",
       " 20.0,\n",
       " 16.6,\n",
       " 14.4,\n",
       " 19.4,\n",
       " 19.7,\n",
       " 20.5,\n",
       " 25.0,\n",
       " 23.4,\n",
       " 18.9,\n",
       " 35.4,\n",
       " 24.7,\n",
       " 31.6,\n",
       " 23.3,\n",
       " 19.6,\n",
       " 18.7,\n",
       " 16.0,\n",
       " 22.2,\n",
       " 25.0,\n",
       " 33.0,\n",
       " 23.5,\n",
       " 19.4,\n",
       " 22.0,\n",
       " 17.4,\n",
       " 20.9,\n",
       " 24.2,\n",
       " 21.7,\n",
       " 22.8,\n",
       " 23.4,\n",
       " 24.1,\n",
       " 21.4,\n",
       " 20.0,\n",
       " 20.8,\n",
       " 21.2,\n",
       " 20.3,\n",
       " 28.0,\n",
       " 23.9,\n",
       " 24.8,\n",
       " 22.9,\n",
       " 23.9,\n",
       " 26.6,\n",
       " 22.5,\n",
       " 22.2,\n",
       " 23.6,\n",
       " 28.7,\n",
       " 22.6,\n",
       " 22.0,\n",
       " 22.9,\n",
       " 25.0,\n",
       " 20.6,\n",
       " 28.4,\n",
       " 21.4,\n",
       " 38.7,\n",
       " 43.8,\n",
       " 33.2,\n",
       " 27.5,\n",
       " 26.5,\n",
       " 18.6,\n",
       " 19.3,\n",
       " 20.1,\n",
       " 19.5,\n",
       " 19.5,\n",
       " 20.4,\n",
       " 19.8,\n",
       " 19.4,\n",
       " 21.7,\n",
       " 22.8,\n",
       " 18.8,\n",
       " 18.7,\n",
       " 18.5,\n",
       " 18.3,\n",
       " 21.2,\n",
       " 19.2,\n",
       " 20.4,\n",
       " 19.3,\n",
       " 22.0,\n",
       " 20.3,\n",
       " 20.5,\n",
       " 17.3,\n",
       " 18.8,\n",
       " 21.4,\n",
       " 15.7,\n",
       " 16.2,\n",
       " 18.0,\n",
       " 14.3,\n",
       " 19.2,\n",
       " 19.6,\n",
       " 23.0,\n",
       " 18.4,\n",
       " 15.6,\n",
       " 18.1,\n",
       " 17.4,\n",
       " 17.1,\n",
       " 13.3,\n",
       " 17.8,\n",
       " 14.0,\n",
       " 14.4,\n",
       " 13.4,\n",
       " 15.6,\n",
       " 11.8,\n",
       " 13.8,\n",
       " 15.6,\n",
       " 14.6,\n",
       " 17.8,\n",
       " 15.4,\n",
       " 21.5,\n",
       " 19.6,\n",
       " 15.3,\n",
       " 19.4,\n",
       " 17.0,\n",
       " 15.6,\n",
       " 13.1,\n",
       " 41.3,\n",
       " 24.3,\n",
       " 23.3,\n",
       " 27.0,\n",
       " 50.0,\n",
       " 50.0,\n",
       " 50.0,\n",
       " 22.7,\n",
       " 25.0,\n",
       " 50.0,\n",
       " 23.8,\n",
       " 23.8,\n",
       " 22.3,\n",
       " 17.4,\n",
       " 19.1,\n",
       " 23.1,\n",
       " 23.6,\n",
       " 22.6,\n",
       " 29.4,\n",
       " 23.2,\n",
       " 24.6,\n",
       " 29.9,\n",
       " 37.2,\n",
       " 39.8,\n",
       " 36.2,\n",
       " 37.9,\n",
       " 32.5,\n",
       " 26.4,\n",
       " 29.6,\n",
       " 50.0,\n",
       " 32.0,\n",
       " 29.8,\n",
       " 34.9,\n",
       " 37.0,\n",
       " 30.5,\n",
       " 36.4,\n",
       " 31.1,\n",
       " 29.1,\n",
       " 50.0,\n",
       " 33.3,\n",
       " 30.3,\n",
       " 34.6,\n",
       " 34.9,\n",
       " 32.9,\n",
       " 24.1,\n",
       " 42.3,\n",
       " 48.5,\n",
       " 50.0,\n",
       " 22.6,\n",
       " 24.4,\n",
       " 22.5,\n",
       " 24.4,\n",
       " 20.0,\n",
       " 21.7,\n",
       " 19.3,\n",
       " 22.4,\n",
       " 28.1,\n",
       " 23.7,\n",
       " 25.0,\n",
       " 23.3,\n",
       " 28.7,\n",
       " 21.5,\n",
       " 23.0,\n",
       " 26.7,\n",
       " 21.7,\n",
       " 27.5,\n",
       " 30.1,\n",
       " 44.8,\n",
       " 50.0,\n",
       " 37.6,\n",
       " 31.6,\n",
       " 46.7,\n",
       " 31.5,\n",
       " 24.3,\n",
       " 31.7,\n",
       " 41.7,\n",
       " 48.3,\n",
       " 29.0,\n",
       " 24.0,\n",
       " 25.1,\n",
       " 31.5,\n",
       " 23.7,\n",
       " 23.3,\n",
       " 22.0,\n",
       " 20.1,\n",
       " 22.2,\n",
       " 23.7,\n",
       " 17.6,\n",
       " 18.5,\n",
       " 24.3,\n",
       " 20.5,\n",
       " 24.5,\n",
       " 26.2,\n",
       " 24.4,\n",
       " 24.8,\n",
       " 29.6,\n",
       " 42.8,\n",
       " 21.9,\n",
       " 20.9,\n",
       " 44.0,\n",
       " 50.0,\n",
       " 36.0,\n",
       " 30.1,\n",
       " 33.8,\n",
       " 43.1,\n",
       " 48.8,\n",
       " 31.0,\n",
       " 36.5,\n",
       " 22.8,\n",
       " 30.7,\n",
       " 50.0,\n",
       " 43.5,\n",
       " 20.7,\n",
       " 21.1,\n",
       " 25.2,\n",
       " 24.4,\n",
       " 35.2,\n",
       " 32.4,\n",
       " 32.0,\n",
       " 33.2,\n",
       " 33.1,\n",
       " 29.1,\n",
       " 35.1,\n",
       " 45.4,\n",
       " 35.4,\n",
       " 46.0,\n",
       " 50.0,\n",
       " 32.2,\n",
       " 22.0,\n",
       " 20.1,\n",
       " 23.2,\n",
       " 22.3,\n",
       " 24.8,\n",
       " 28.5,\n",
       " 37.3,\n",
       " 27.9,\n",
       " 23.9,\n",
       " 21.7,\n",
       " 28.6,\n",
       " 27.1,\n",
       " 20.3,\n",
       " 22.5,\n",
       " 29.0,\n",
       " 24.8,\n",
       " 22.0,\n",
       " 26.4,\n",
       " 33.1,\n",
       " 36.1,\n",
       " 28.4,\n",
       " 33.4,\n",
       " 28.2,\n",
       " 22.8,\n",
       " 20.3,\n",
       " 16.1,\n",
       " 22.1,\n",
       " 19.4,\n",
       " 21.6,\n",
       " 23.8,\n",
       " 16.2,\n",
       " 17.8,\n",
       " 19.8,\n",
       " 23.1,\n",
       " 21.0,\n",
       " 23.8,\n",
       " 23.1,\n",
       " 20.4,\n",
       " 18.5,\n",
       " 25.0,\n",
       " 24.6,\n",
       " 23.0,\n",
       " 22.2,\n",
       " 19.3,\n",
       " 22.6,\n",
       " 19.8,\n",
       " 17.1,\n",
       " 19.4,\n",
       " 22.2,\n",
       " 20.7,\n",
       " 21.1,\n",
       " 19.5,\n",
       " 18.5,\n",
       " 20.6,\n",
       " 19.0,\n",
       " 18.7,\n",
       " 32.7,\n",
       " 16.5,\n",
       " 23.9,\n",
       " 31.2,\n",
       " 17.5,\n",
       " 17.2,\n",
       " 23.1,\n",
       " 24.5,\n",
       " 26.6,\n",
       " 22.9,\n",
       " 24.1,\n",
       " 18.6,\n",
       " 30.1,\n",
       " 18.2,\n",
       " 20.6,\n",
       " 17.8,\n",
       " 21.7,\n",
       " 22.7,\n",
       " 22.6,\n",
       " 25.0,\n",
       " 19.9,\n",
       " 20.8,\n",
       " 16.8,\n",
       " 21.9,\n",
       " 27.5,\n",
       " 21.9,\n",
       " 23.1,\n",
       " 50.0,\n",
       " 50.0,\n",
       " 50.0,\n",
       " 50.0,\n",
       " 50.0,\n",
       " 13.8,\n",
       " 13.8,\n",
       " 15.0,\n",
       " 13.9,\n",
       " 13.3,\n",
       " 13.1,\n",
       " 10.2,\n",
       " 10.4,\n",
       " 10.9,\n",
       " 11.3,\n",
       " 12.3,\n",
       " 8.8,\n",
       " 7.2,\n",
       " 10.5,\n",
       " 7.4,\n",
       " 10.2,\n",
       " 11.5,\n",
       " 15.1,\n",
       " 23.2,\n",
       " 9.7,\n",
       " 13.8,\n",
       " 12.7,\n",
       " 13.1,\n",
       " 12.5,\n",
       " 8.5,\n",
       " 5.0,\n",
       " 6.3,\n",
       " 5.6,\n",
       " 7.2,\n",
       " 12.1,\n",
       " 8.3,\n",
       " 8.5,\n",
       " 5.0,\n",
       " 11.9,\n",
       " 27.9,\n",
       " 17.2,\n",
       " 27.5,\n",
       " 15.0,\n",
       " 17.2,\n",
       " 17.9,\n",
       " 16.3,\n",
       " 7.0,\n",
       " 7.2,\n",
       " 7.5,\n",
       " 10.4,\n",
       " 8.8,\n",
       " 8.4,\n",
       " 16.7,\n",
       " 14.2,\n",
       " 20.8,\n",
       " 13.4,\n",
       " 11.7,\n",
       " 8.3,\n",
       " 10.2,\n",
       " 10.9,\n",
       " 11.0,\n",
       " 9.5,\n",
       " 14.5,\n",
       " 14.1,\n",
       " 16.1,\n",
       " 14.3,\n",
       " 11.7,\n",
       " 13.4,\n",
       " 9.6,\n",
       " 8.7,\n",
       " 8.4,\n",
       " 12.8,\n",
       " 10.5,\n",
       " 17.1,\n",
       " 18.4,\n",
       " 15.4,\n",
       " 10.8,\n",
       " 11.8,\n",
       " 14.9,\n",
       " 12.6,\n",
       " 14.1,\n",
       " 13.0,\n",
       " 13.4,\n",
       " 15.2,\n",
       " 16.1,\n",
       " 17.8,\n",
       " 14.9,\n",
       " 14.1,\n",
       " 12.7,\n",
       " 13.5,\n",
       " 14.9,\n",
       " 20.0,\n",
       " 16.4,\n",
       " 17.7,\n",
       " 19.5,\n",
       " 20.2,\n",
       " 21.4,\n",
       " 19.9,\n",
       " 19.0,\n",
       " 19.1,\n",
       " 19.1,\n",
       " 20.1,\n",
       " 19.9,\n",
       " 19.6,\n",
       " 23.2,\n",
       " 29.8,\n",
       " 13.8,\n",
       " 13.3,\n",
       " 16.7,\n",
       " 12.0,\n",
       " 14.6,\n",
       " 21.4,\n",
       " 23.0,\n",
       " 23.7,\n",
       " 25.0,\n",
       " 21.8,\n",
       " 20.6,\n",
       " 21.2,\n",
       " 19.1,\n",
       " 20.6,\n",
       " 15.2,\n",
       " 7.0,\n",
       " 8.1,\n",
       " 13.6,\n",
       " 20.1,\n",
       " 21.8,\n",
       " 24.5,\n",
       " 23.1,\n",
       " 19.7,\n",
       " 18.3,\n",
       " 21.2,\n",
       " 17.5,\n",
       " 16.8,\n",
       " 22.4,\n",
       " 20.6,\n",
       " 23.9,\n",
       " 22.0,\n",
       " 11.9]"
      ]
     },
     "execution_count": 19,
     "metadata": {},
     "output_type": "execute_result"
    }
   ],
   "source": [
    "list(y)"
   ]
  },
  {
   "cell_type": "code",
   "execution_count": 20,
   "metadata": {},
   "outputs": [
    {
     "data": {
      "text/plain": [
       "[415.95,\n",
       " 405.786,\n",
       " 456.21,\n",
       " 443.868,\n",
       " 453.702,\n",
       " 406.38,\n",
       " 378.792,\n",
       " 389.352,\n",
       " 353.646,\n",
       " 378.26399999999995,\n",
       " 402.882,\n",
       " 378.59400000000005,\n",
       " 370.67400000000004,\n",
       " 374.634,\n",
       " 384.336,\n",
       " 367.044,\n",
       " 373.71,\n",
       " 377.34000000000003,\n",
       " 342.096,\n",
       " 359.982,\n",
       " 349.62,\n",
       " 375.69,\n",
       " 387.372,\n",
       " 365.65799999999996,\n",
       " 372.98400000000004,\n",
       " 351.534,\n",
       " 365.65799999999996,\n",
       " 381.102,\n",
       " 410.67,\n",
       " 422.48400000000004,\n",
       " 359.058,\n",
       " 382.752,\n",
       " 374.7,\n",
       " 358.26599999999996,\n",
       " 384.336,\n",
       " 373.578,\n",
       " 367.50600000000003,\n",
       " 368.09999999999997,\n",
       " 375.75600000000003,\n",
       " 417.27,\n",
       " 445.584,\n",
       " 428.82,\n",
       " 389.154,\n",
       " 391.92600000000004,\n",
       " 382.554,\n",
       " 357.012,\n",
       " 363.876,\n",
       " 379.98,\n",
       " 338.334,\n",
       " 351.732,\n",
       " 375.558,\n",
       " 385.59000000000003,\n",
       " 411.726,\n",
       " 377.868,\n",
       " 370.608,\n",
       " 460.43399999999997,\n",
       " 403.278,\n",
       " 431.856,\n",
       " 387.57,\n",
       " 373.18199999999996,\n",
       " 360.90599999999995,\n",
       " 375.75600000000003,\n",
       " 408.096,\n",
       " 428.292,\n",
       " 450.86400000000003,\n",
       " 397.14,\n",
       " 363.942,\n",
       " 369.948,\n",
       " 351.204,\n",
       " 370.40999999999997,\n",
       " 405.522,\n",
       " 375.42600000000004,\n",
       " 382.29,\n",
       " 394.17,\n",
       " 396.018,\n",
       " 396.876,\n",
       " 396.414,\n",
       " 387.23999999999995,\n",
       " 393.312,\n",
       " 369.68399999999997,\n",
       " 425.982,\n",
       " 418.854,\n",
       " 397.93199999999996,\n",
       " 389.022,\n",
       " 403.67400000000004,\n",
       " 419.58,\n",
       " 378.98999999999995,\n",
       " 385.98600000000005,\n",
       " 444.462,\n",
       " 449.214,\n",
       " 405.522,\n",
       " 404.73,\n",
       " 407.172,\n",
       " 391.92600000000004,\n",
       " 394.43399999999997,\n",
       " 419.25,\n",
       " 388.75800000000004,\n",
       " 514.5540000000001,\n",
       " 498.12,\n",
       " 471.456,\n",
       " 425.982,\n",
       " 429.546,\n",
       " 404.73,\n",
       " 387.042,\n",
       " 389.022,\n",
       " 368.166,\n",
       " 367.17600000000004,\n",
       " 386.382,\n",
       " 409.284,\n",
       " 393.11400000000003,\n",
       " 390.87,\n",
       " 425.19,\n",
       " 372.25800000000004,\n",
       " 384.072,\n",
       " 394.76399999999995,\n",
       " 373.248,\n",
       " 389.616,\n",
       " 379.38599999999997,\n",
       " 369.552,\n",
       " 360.246,\n",
       " 369.42,\n",
       " 378.26399999999995,\n",
       " 375.42600000000004,\n",
       " 368.496,\n",
       " 370.01399999999995,\n",
       " 377.07599999999996,\n",
       " 352.458,\n",
       " 357.738,\n",
       " 406.446,\n",
       " 354.042,\n",
       " 408.228,\n",
       " 399.51599999999996,\n",
       " 402.552,\n",
       " 366.252,\n",
       " 361.962,\n",
       " 400.11,\n",
       " 374.172,\n",
       " 407.964,\n",
       " 368.562,\n",
       " 387.966,\n",
       " 389.48400000000004,\n",
       " 313.254,\n",
       " 338.59799999999996,\n",
       " 342.888,\n",
       " 305.59799999999996,\n",
       " 386.58,\n",
       " 353.448,\n",
       " 307.116,\n",
       " 324.276,\n",
       " 351.40200000000004,\n",
       " 386.052,\n",
       " 338.664,\n",
       " 312.792,\n",
       " 358.794,\n",
       " 386.51399999999995,\n",
       " 388.032,\n",
       " 329.952,\n",
       " 440.238,\n",
       " 382.356,\n",
       " 411.65999999999997,\n",
       " 394.5,\n",
       " 476.274,\n",
       " 496.932,\n",
       " 534.75,\n",
       " 368.36400000000003,\n",
       " 384.666,\n",
       " 505.31399999999996,\n",
       " 369.882,\n",
       " 399.054,\n",
       " 404.532,\n",
       " 369.75,\n",
       " 370.08,\n",
       " 349.752,\n",
       " 405.456,\n",
       " 368.694,\n",
       " 414.036,\n",
       " 379.32,\n",
       " 398.79,\n",
       " 434.76000000000005,\n",
       " 442.68,\n",
       " 494.49,\n",
       " 387.504,\n",
       " 454.23,\n",
       " 415.15799999999996,\n",
       " 351.86400000000003,\n",
       " 388.09799999999996,\n",
       " 498.846,\n",
       " 429.612,\n",
       " 414.696,\n",
       " 456.21,\n",
       " 440.76599999999996,\n",
       " 426.774,\n",
       " 455.748,\n",
       " 430.8,\n",
       " 417.86400000000003,\n",
       " 501.75,\n",
       " 462.942,\n",
       " 451.062,\n",
       " 462.084,\n",
       " 442.34999999999997,\n",
       " 452.90999999999997,\n",
       " 388.692,\n",
       " 484.26000000000005,\n",
       " 500.298,\n",
       " 512.244,\n",
       " 370.806,\n",
       " 399.51599999999996,\n",
       " 363.678,\n",
       " 382.224,\n",
       " 334.704,\n",
       " 375.36,\n",
       " 338.664,\n",
       " 365.262,\n",
       " 402.75,\n",
       " 339.192,\n",
       " 390.012,\n",
       " 370.608,\n",
       " 420.372,\n",
       " 374.76599999999996,\n",
       " 402.618,\n",
       " 440.76599999999996,\n",
       " 388.82399999999996,\n",
       " 436.01399999999995,\n",
       " 418.788,\n",
       " 527.556,\n",
       " 557.85,\n",
       " 512.64,\n",
       " 454.75800000000004,\n",
       " 489.276,\n",
       " 414.43199999999996,\n",
       " 376.746,\n",
       " 471.192,\n",
       " 532.242,\n",
       " 526.302,\n",
       " 425.916,\n",
       " 383.67600000000004,\n",
       " 419.646,\n",
       " 467.628,\n",
       " 409.746,\n",
       " 417.996,\n",
       " 437.202,\n",
       " 384.27,\n",
       " 401.628,\n",
       " 403.938,\n",
       " 351.138,\n",
       " 351.93,\n",
       " 385.128,\n",
       " 392.916,\n",
       " 406.578,\n",
       " 425.388,\n",
       " 410.142,\n",
       " 406.90799999999996,\n",
       " 441.162,\n",
       " 527.094,\n",
       " 385.128,\n",
       " 369.81600000000003,\n",
       " 473.964,\n",
       " 556.464,\n",
       " 465.978,\n",
       " 433.572,\n",
       " 457.398,\n",
       " 478.32,\n",
       " 536.268,\n",
       " 465.582,\n",
       " 457.596,\n",
       " 348.96,\n",
       " 444.92400000000004,\n",
       " 529.6020000000001,\n",
       " 475.02,\n",
       " 372.71999999999997,\n",
       " 368.496,\n",
       " 393.84000000000003,\n",
       " 413.50800000000004,\n",
       " 489.606,\n",
       " 428.028,\n",
       " 434.36400000000003,\n",
       " 461.622,\n",
       " 432.51599999999996,\n",
       " 409.812,\n",
       " 431.59200000000004,\n",
       " 498.12,\n",
       " 441.888,\n",
       " 486.57,\n",
       " 504.918,\n",
       " 449.808,\n",
       " 407.898,\n",
       " 393.18,\n",
       " 391.794,\n",
       " 398.79,\n",
       " 415.29,\n",
       " 434.82599999999996,\n",
       " 453.768,\n",
       " 419.58,\n",
       " 386.382,\n",
       " 378.59400000000005,\n",
       " 422.748,\n",
       " 414.23400000000004,\n",
       " 364.14,\n",
       " 400.77,\n",
       " 446.706,\n",
       " 435.48600000000005,\n",
       " 416.94,\n",
       " 410.67,\n",
       " 442.812,\n",
       " 459.57599999999996,\n",
       " 418.65599999999995,\n",
       " 471.71999999999997,\n",
       " 434.034,\n",
       " 419.90999999999997,\n",
       " 376.15200000000004,\n",
       " 310.218,\n",
       " 386.052,\n",
       " 379.518,\n",
       " 395.556,\n",
       " 415.422,\n",
       " 358.53000000000003,\n",
       " 372.32399999999996,\n",
       " 363.612,\n",
       " 403.212,\n",
       " 385.458,\n",
       " 406.116,\n",
       " 402.81600000000003,\n",
       " 380.706,\n",
       " 358.728,\n",
       " 405.39,\n",
       " 406.446,\n",
       " 398.59200000000004,\n",
       " 383.478,\n",
       " 369.288,\n",
       " 399.978,\n",
       " 387.504,\n",
       " 358.596,\n",
       " 380.046,\n",
       " 398.856,\n",
       " 398.46,\n",
       " 380.442,\n",
       " 369.354,\n",
       " 371.07,\n",
       " 381.894,\n",
       " 377.01000000000005,\n",
       " 375.888,\n",
       " 459.90599999999995,\n",
       " 413.64,\n",
       " 423.936,\n",
       " 435.68399999999997,\n",
       " 378.92400000000004,\n",
       " 371.268,\n",
       " 412.056,\n",
       " 419.90999999999997,\n",
       " 439.974,\n",
       " 410.34000000000003,\n",
       " 416.214,\n",
       " 370.34400000000005,\n",
       " 426.048,\n",
       " 355.75800000000004,\n",
       " 373.776,\n",
       " 391.99199999999996,\n",
       " 404.07,\n",
       " 386.382,\n",
       " 385.392,\n",
       " 404.268,\n",
       " 394.56600000000003,\n",
       " 335.892,\n",
       " 364.998,\n",
       " 561.4799999999999,\n",
       " 217.026,\n",
       " 309.558,\n",
       " 236.958,\n",
       " 310.02,\n",
       " 423.078,\n",
       " 445.056,\n",
       " 392.25600000000003,\n",
       " 369.75,\n",
       " 305.796,\n",
       " 255.108,\n",
       " 464.65799999999996,\n",
       " 420.834,\n",
       " 430.404,\n",
       " 403.08,\n",
       " 392.718,\n",
       " 441.888,\n",
       " 413.96999999999997,\n",
       " 347.376,\n",
       " 346.32,\n",
       " 270.288,\n",
       " 330.282,\n",
       " 289.032,\n",
       " 312.0,\n",
       " 304.08,\n",
       " 337.73999999999995,\n",
       " 359.058,\n",
       " 381.366,\n",
       " 314.376,\n",
       " 390.738,\n",
       " 370.542,\n",
       " 409.086,\n",
       " 404.73,\n",
       " 361.302,\n",
       " 341.898,\n",
       " 368.232,\n",
       " 377.142,\n",
       " 400.638,\n",
       " 404.664,\n",
       " 335.034,\n",
       " 347.046,\n",
       " 357.078,\n",
       " 255.108,\n",
       " 352.128,\n",
       " 352.722,\n",
       " 434.232,\n",
       " 361.962,\n",
       " 421.362,\n",
       " 287.448,\n",
       " 322.23,\n",
       " 280.254,\n",
       " 406.644,\n",
       " 429.612,\n",
       " 332.064,\n",
       " 375.162,\n",
       " 432.384,\n",
       " 405.126,\n",
       " 378.396,\n",
       " 354.768,\n",
       " 384.798,\n",
       " 349.29,\n",
       " 371.13599999999997,\n",
       " 367.24199999999996,\n",
       " 391.332,\n",
       " 390.738,\n",
       " 403.08,\n",
       " 400.968,\n",
       " 432.978,\n",
       " 406.05,\n",
       " 406.776,\n",
       " 391.728,\n",
       " 419.51399999999995,\n",
       " 408.42600000000004,\n",
       " 388.032,\n",
       " 373.71,\n",
       " 353.382,\n",
       " 365.988,\n",
       " 404.796,\n",
       " 392.454,\n",
       " 410.01000000000005,\n",
       " 368.36400000000003,\n",
       " 408.294,\n",
       " 400.50600000000003,\n",
       " 394.56600000000003,\n",
       " 390.21,\n",
       " 405.522,\n",
       " 427.43399999999997,\n",
       " 421.23,\n",
       " 397.602,\n",
       " 469.938,\n",
       " 426.048,\n",
       " 412.65000000000003,\n",
       " 376.416,\n",
       " 373.776,\n",
       " 397.866,\n",
       " 383.346,\n",
       " 424.26599999999996,\n",
       " 402.81600000000003,\n",
       " 398.922,\n",
       " 411.858,\n",
       " 391.794,\n",
       " 362.09400000000005,\n",
       " 374.832,\n",
       " 378.198,\n",
       " 373.116,\n",
       " 359.058,\n",
       " 389.022,\n",
       " 393.11400000000003,\n",
       " 406.84200000000004,\n",
       " 442.68,\n",
       " 340.18199999999996,\n",
       " 388.692,\n",
       " 409.944,\n",
       " 332.064,\n",
       " 390.21,\n",
       " 393.11400000000003,\n",
       " 393.972,\n",
       " 427.5,\n",
       " 448.026,\n",
       " 362.292,\n",
       " 369.48600000000005,\n",
       " 398.59200000000004,\n",
       " 385.524,\n",
       " 371.73,\n",
       " 341.964,\n",
       " 339.32399999999996,\n",
       " 318.138,\n",
       " 376.878,\n",
       " 376.878,\n",
       " 358.662,\n",
       " 373.116,\n",
       " 356.21999999999997,\n",
       " 337.73999999999995,\n",
       " 364.404,\n",
       " 379.254,\n",
       " 349.554,\n",
       " 379.782,\n",
       " 417.138,\n",
       " 385.92,\n",
       " 442.416,\n",
       " 430.404,\n",
       " 379.98]"
      ]
     },
     "execution_count": 20,
     "metadata": {},
     "output_type": "execute_result"
    }
   ],
   "source": [
    "price_by_random_k_and_b"
   ]
  },
  {
   "cell_type": "code",
   "execution_count": 21,
   "metadata": {},
   "outputs": [
    {
     "data": {
      "text/plain": [
       "[2, 2, 2]"
      ]
     },
     "execution_count": 21,
     "metadata": {},
     "output_type": "execute_result"
    }
   ],
   "source": [
    "[1, 1, 1]\n",
    "[2, 2, 2]"
   ]
  },
  {
   "cell_type": "markdown",
   "metadata": {},
   "source": [
    "## loss\n",
    "\n",
    "$$ loss = \\frac{1}{n} \\sum{(y_i - \\hat{y_i})}^2$$"
   ]
  },
  {
   "cell_type": "markdown",
   "metadata": {},
   "source": [
    "$$ loss = \\frac{1}{n} \\sum{(y_i - (kx_i + b_i))}^2 $$"
   ]
  },
  {
   "cell_type": "markdown",
   "metadata": {},
   "source": [
    "$$ \\frac{\\partial{loss}}{\\partial{k}} = -\\frac{2}{n}\\sum(y_i - (kx_i + b_i))x_i$$"
   ]
  },
  {
   "cell_type": "markdown",
   "metadata": {},
   "source": [
    "$$ \\frac{\\partial{loss}}{\\partial{k}} = -\\frac{2}{n}\\sum(y_i - \\hat{y_i})x_i$$"
   ]
  },
  {
   "cell_type": "markdown",
   "metadata": {},
   "source": [
    "$$ \\frac{\\partial{loss}}{\\partial{b}} = -\\frac{2}{n}\\sum(y_i - \\hat{y_i})$$"
   ]
  },
  {
   "cell_type": "code",
   "execution_count": 22,
   "metadata": {},
   "outputs": [],
   "source": [
    "def loss(y, y_hat): # to evaluate the performance \n",
    "    return sum((y_i - y_hat_i)**2 for y_i, y_hat_i in zip(list(y), list(y_hat))) / len(list(y))"
   ]
  },
  {
   "cell_type": "code",
   "execution_count": null,
   "metadata": {},
   "outputs": [],
   "source": []
  },
  {
   "cell_type": "code",
   "execution_count": null,
   "metadata": {},
   "outputs": [],
   "source": []
  },
  {
   "cell_type": "markdown",
   "metadata": {},
   "source": [
    "## First-Method: Random generation: get best k and best b"
   ]
  },
  {
   "cell_type": "code",
   "execution_count": 23,
   "metadata": {},
   "outputs": [
    {
     "name": "stdout",
     "output_type": "stream",
     "text": [
      "When time is : 0, get best_k: 26.5453043876702 best_b: -13.99967720291184, and the loss is: 17170.310353396453\n",
      "When time is : 3, get best_k: 3.249915688266711 best_b: 47.274680165071004, and the loss is: 2100.478666183567\n",
      "When time is : 11, get best_k: 13.780101084146807 best_b: -24.11114008173412, and the loss is: 1651.100245130773\n",
      "When time is : 36, get best_k: 10.923589264978602 best_b: -82.2072536958205, and the loss is: 1347.6724459101629\n",
      "When time is : 59, get best_k: -6.150928454754606 best_b: 86.36579059287848, and the loss is: 792.0922255224583\n",
      "When time is : 87, get best_k: -8.801793312213604 best_b: 67.61502619644949, and the loss is: 306.26520288564944\n",
      "When time is : 89, get best_k: 6.97915438328593 best_b: -32.62172830363896, and the loss is: 173.3552277924049\n",
      "When time is : 122, get best_k: 16.504967240453254 best_b: -71.24638717147478, and the loss is: 169.57386481706558\n",
      "When time is : 163, get best_k: 11.25517393650577 best_b: -54.22136579860965, and the loss is: 82.11914199682953\n",
      "When time is : 325, get best_k: 8.134489217234943 best_b: -28.780853846873526, and the loss is: 44.0984786838548\n"
     ]
    }
   ],
   "source": [
    "trying_times = 2000\n",
    "\n",
    "min_loss = float('inf')\n",
    "best_k, best_b = None, None\n",
    "\n",
    "for i in range(trying_times):\n",
    "    k = random.random() * 200 - 100\n",
    "    b = random.random() * 200 - 100\n",
    "    price_by_random_k_and_b = [price(r, k, b) for r in X_rm]\n",
    "\n",
    "    current_loss = loss(y, price_by_random_k_and_b)\n",
    "    \n",
    "    if current_loss < min_loss:\n",
    "        min_loss = current_loss\n",
    "        best_k, best_b = k, b\n",
    "        print('When time is : {}, get best_k: {} best_b: {}, and the loss is: {}'.format(i, best_k, best_b, min_loss))"
   ]
  },
  {
   "cell_type": "code",
   "execution_count": 24,
   "metadata": {},
   "outputs": [
    {
     "data": {
      "text/plain": [
       "3.1622776601683795"
      ]
     },
     "execution_count": 24,
     "metadata": {},
     "output_type": "execute_result"
    }
   ],
   "source": [
    "10 ** 0.5"
   ]
  },
  {
   "cell_type": "code",
   "execution_count": 25,
   "metadata": {},
   "outputs": [
    {
     "data": {
      "text/plain": [
       "<matplotlib.collections.PathCollection at 0x7f8867076860>"
      ]
     },
     "execution_count": 25,
     "metadata": {},
     "output_type": "execute_result"
    },
    {
     "data": {
      "image/png": "[encoded data removed]",
      "text/plain": [
       "<Figure size 432x288 with 1 Axes>"
      ]
     },
     "metadata": {
      "needs_background": "light"
     },
     "output_type": "display_data"
    }
   ],
   "source": [
    "X_rm = X[:, 5]\n",
    "k = 15\n",
    "b = -68\n",
    "price_by_random_k_and_b = [price(r, k, b) for r in X_rm]\n",
    "\n",
    "draw_rm_and_price()\n",
    "plt.scatter(X_rm, price_by_random_k_and_b)"
   ]
  },
  {
   "cell_type": "markdown",
   "metadata": {},
   "source": [
    "## 2nd-Method: Direction Adjusting"
   ]
  },
  {
   "cell_type": "code",
   "execution_count": 31,
   "metadata": {},
   "outputs": [
    {
     "name": "stdout",
     "output_type": "stream",
     "text": [
      "-48.47998173163661 14.56585047847814\n",
      "When time is : 9, get best_k: -47.4799817316366 best_b: 15.565850478478136, and the loss is: 94866.49293018472\n",
      "When time is : 19, get best_k: -46.479981731636585 best_b: 16.565850478478144, and the loss is: 90415.40548557085\n",
      "When time is : 29, get best_k: -45.47998173163657 best_b: 17.565850478478158, and the loss is: 86071.43522770402\n",
      "When time is : 39, get best_k: -44.479981731636556 best_b: 18.565850478478172, and the loss is: 81834.58215658426\n",
      "When time is : 49, get best_k: -43.47998173163654 best_b: 19.565850478478186, and the loss is: 77704.8462722116\n",
      "When time is : 59, get best_k: -42.47998173163653 best_b: 20.5658504784782, and the loss is: 73682.227574586\n",
      "When time is : 69, get best_k: -41.479981731636514 best_b: 21.565850478478215, and the loss is: 69766.72606370725\n",
      "When time is : 79, get best_k: -40.4799817316365 best_b: 22.56585047847823, and the loss is: 65958.34173957566\n",
      "When time is : 89, get best_k: -39.479981731636485 best_b: 23.565850478478243, and the loss is: 62257.074602191125\n",
      "When time is : 99, get best_k: -38.47998173163647 best_b: 24.565850478478257, and the loss is: 58662.924651553665\n",
      "When time is : 109, get best_k: -37.47998173163646 best_b: 25.56585047847827, and the loss is: 55175.89188766313\n",
      "When time is : 119, get best_k: -36.47998173163644 best_b: 26.565850478478286, and the loss is: 51795.97631051969\n",
      "When time is : 129, get best_k: -35.47998173163643 best_b: 27.5658504784783, and the loss is: 48523.177920123286\n",
      "When time is : 139, get best_k: -34.479981731636414 best_b: 28.565850478478314, and the loss is: 45357.49671647399\n",
      "When time is : 149, get best_k: -33.4799817316364 best_b: 29.56585047847833, and the loss is: 42298.93269957166\n",
      "When time is : 159, get best_k: -32.479981731636386 best_b: 30.565850478478342, and the loss is: 39347.48586941638\n",
      "When time is : 169, get best_k: -31.47998173163637 best_b: 31.565850478478357, and the loss is: 36503.15622600807\n",
      "When time is : 179, get best_k: -30.479981731636357 best_b: 32.56585047847837, and the loss is: 33765.94376934691\n",
      "When time is : 189, get best_k: -29.479981731636343 best_b: 33.56585047847838, and the loss is: 31135.848499432734\n",
      "When time is : 199, get best_k: -28.47998173163633 best_b: 34.565850478478396, and the loss is: 28612.870416265578\n",
      "When time is : 209, get best_k: -27.479981731636315 best_b: 35.56585047847841, and the loss is: 26197.009519845553\n",
      "When time is : 219, get best_k: -26.4799817316363 best_b: 36.565850478478424, and the loss is: 23888.26581017246\n",
      "When time is : 229, get best_k: -25.479981731636286 best_b: 37.56585047847844, and the loss is: 21686.639287246468\n",
      "When time is : 239, get best_k: -24.479981731636272 best_b: 38.56585047847845, and the loss is: 19592.129951067505\n",
      "When time is : 249, get best_k: -23.479981731636258 best_b: 39.56585047847847, and the loss is: 17604.737801635572\n",
      "When time is : 259, get best_k: -22.479981731636244 best_b: 40.56585047847848, and the loss is: 15724.462838950665\n",
      "When time is : 269, get best_k: -21.47998173163623 best_b: 41.565850478478495, and the loss is: 13951.305063012835\n",
      "When time is : 279, get best_k: -20.479981731636215 best_b: 42.56585047847851, and the loss is: 12285.264473821993\n",
      "When time is : 289, get best_k: -19.4799817316362 best_b: 43.565850478478524, and the loss is: 10726.341071378209\n",
      "When time is : 299, get best_k: -18.479981731636187 best_b: 44.56585047847854, and the loss is: 9274.534855681462\n",
      "When time is : 309, get best_k: -17.479981731636173 best_b: 45.56585047847855, and the loss is: 7929.84582673177\n",
      "When time is : 319, get best_k: -16.47998173163616 best_b: 46.565850478478566, and the loss is: 6692.273984529096\n",
      "When time is : 329, get best_k: -15.479981731636155 best_b: 47.56585047847858, and the loss is: 5561.819329073488\n",
      "When time is : 339, get best_k: -14.479981731636158 best_b: 48.565850478478595, and the loss is: 4538.481860364911\n",
      "When time is : 349, get best_k: -13.479981731636162 best_b: 49.56585047847861, and the loss is: 3622.2615784033756\n",
      "When time is : 359, get best_k: -12.479981731636165 best_b: 50.56585047847862, and the loss is: 2813.158483188873\n",
      "When time is : 369, get best_k: -11.479981731636169 best_b: 51.56585047847864, and the loss is: 2111.172574721404\n",
      "When time is : 379, get best_k: -10.479981731636173 best_b: 52.56585047847865, and the loss is: 1516.3038530009762\n",
      "When time is : 389, get best_k: -9.479981731636176 best_b: 53.565850478478666, and the loss is: 1028.5523180275773\n",
      "When time is : 399, get best_k: -8.47998173163618 best_b: 54.56585047847868, and the loss is: 647.9179698012164\n",
      "When time is : 409, get best_k: -7.479981731636183 best_b: 55.565850478478694, and the loss is: 374.40080832189074\n",
      "When time is : 419, get best_k: -6.479981731636187 best_b: 56.56585047847871, and the loss is: 208.00083358960077\n",
      "When time is : 429, get best_k: -5.47998173163619 best_b: 57.56585047847872, and the loss is: 148.71804560434575\n"
     ]
    }
   ],
   "source": [
    "trying_times = 2000\n",
    "\n",
    "min_loss = float('inf')\n",
    "\n",
    "best_k = random.random() * 200 - 100\n",
    "best_b = random.random() * 200 - 100\n",
    "\n",
    "direction = [\n",
    "    (+1, -1),  # first element: k's change direction, second element: b's change direction\n",
    "    (+1, +1), \n",
    "    (-1, -1), \n",
    "    (-1, +1),\n",
    "]\n",
    "\n",
    "next_direction = random.choice(direction)\n",
    "\n",
    "scalar = 0.1\n",
    "\n",
    "update_time = 0\n",
    "\n",
    "for i in range(trying_times):\n",
    "    \n",
    "    k_direction, b_direction = next_direction\n",
    "    \n",
    "    current_k, current_b = best_k + k_direction * scalar, best_b + b_direction * scalar\n",
    "    \n",
    "    price_by_k_and_b = [price(r, current_k, current_b) for r in X_rm]\n",
    "\n",
    "    current_loss = loss(y, price_by_k_and_b)\n",
    "    \n",
    "    if current_loss < min_loss: # performance became better\n",
    "        min_loss = current_loss\n",
    "        best_k, best_b = current_k, current_b\n",
    "        \n",
    "        next_direction = next_direction\n",
    "        update_time += 1\n",
    "        \n",
    "        if update_time % 10 == 0: \n",
    "            print('When time is : {}, get best_k: {} best_b: {}, and the loss is: {}'.format(i, best_k, best_b, min_loss))\n",
    "    else:\n",
    "        next_direction = random.choice(direction)"
   ]
  },
  {
   "cell_type": "code",
   "execution_count": null,
   "metadata": {},
   "outputs": [],
   "source": []
  },
  {
   "cell_type": "markdown",
   "metadata": {},
   "source": [
    "如果我们想得到更快的更新，在更短的时间内获得更好的结果，我们需要一件事情：\n",
    "\n",
    "#### 找对改变的方向\n",
    "\n",
    "#### 如何找对改变的方向呢？ \n",
    "\n",
    "#### 2nd-method: 监督让他变化--> 监督学习"
   ]
  },
  {
   "cell_type": "markdown",
   "metadata": {},
   "source": [
    "## 导数"
   ]
  },
  {
   "cell_type": "code",
   "execution_count": 27,
   "metadata": {},
   "outputs": [],
   "source": [
    "def partial_k(x, y, y_hat):\n",
    "    n = len(y)\n",
    "\n",
    "    gradient = 0\n",
    "    \n",
    "    for x_i, y_i, y_hat_i in zip(list(x), list(y), list(y_hat)):\n",
    "        gradient += (y_i - y_hat_i) * x_i\n",
    "    \n",
    "    return -2 / n * gradient\n",
    "\n",
    "\n",
    "def partial_b(x, y, y_hat):\n",
    "    n = len(y)\n",
    "\n",
    "    gradient = 0\n",
    "    \n",
    "    for y_i, y_hat_i in zip(list(y), list(y_hat)):\n",
    "        gradient += (y_i - y_hat_i)\n",
    "    \n",
    "    return -2 / n * gradient"
   ]
  },
  {
   "cell_type": "code",
   "execution_count": 29,
   "metadata": {},
   "outputs": [
    {
     "name": "stdout",
     "output_type": "stream",
     "text": [
      "When time is : 0, get best_k: -30.299956815648073 best_b: 78.10060907800798, and the loss is: 18994.755640780735\n",
      "When time is : 50, get best_k: -23.16308370713623 best_b: 79.2082586114323, and the loss is: 8459.02679028321\n",
      "When time is : 100, get best_k: -18.43287277847901 best_b: 79.93757036880731, and the loss is: 3832.278507422803\n",
      "When time is : 150, get best_k: -15.297511511287853 best_b: 80.41616539345246, and the loss is: 1800.4369337986898\n",
      "When time is : 200, get best_k: -13.219027082134795 best_b: 80.72861574035782, and the loss is: 908.1389363284729\n",
      "When time is : 250, get best_k: -11.840915061494083 best_b: 80.93096571300404, and the loss is: 516.2672413374294\n",
      "When time is : 300, get best_k: -10.92692669712659 best_b: 81.06035481274377, and the loss is: 344.1558897770017\n",
      "When time is : 350, get best_k: -10.320504402889325 best_b: 81.1413946856099, and the loss is: 268.55147603012546\n",
      "When time is : 400, get best_k: -9.917900423302243 best_b: 81.19039500452604, and the loss is: 235.32772825425877\n",
      "When time is : 450, get best_k: -9.65036308025836 best_b: 81.21816388163352, and the loss is: 220.71529671829794\n",
      "When time is : 500, get best_k: -9.47233193516283 best_b: 81.23186364864993, and the loss is: 214.27596043554013\n",
      "When time is : 550, get best_k: -9.353614945837824 best_b: 81.23624064746342, and the loss is: 211.4258137200037\n",
      "When time is : 600, get best_k: -9.274204416151669 best_b: 81.234440189132, and the loss is: 210.15185154216425\n",
      "When time is : 650, get best_k: -9.220841623748024 best_b: 81.22854661182123, and the loss is: 209.57007027502624\n",
      "When time is : 700, get best_k: -9.184740263725153 best_b: 81.21994116699896, and the loss is: 209.29226303259776\n",
      "When time is : 750, get best_k: -9.160077817758943 best_b: 81.2095391838577, and the loss is: 209.14795021234187\n",
      "When time is : 800, get best_k: -9.1429958129139 best_b: 81.19794723369766, and the loss is: 209.06226633347796\n",
      "When time is : 850, get best_k: -9.130937312039087 best_b: 81.18556727979538, and the loss is: 209.0023344989899\n",
      "When time is : 900, get best_k: -9.122207881166208 best_b: 81.17266569555461, and the loss is: 208.9537169412955\n",
      "When time is : 950, get best_k: -9.115684650896174 best_b: 81.15941900153116, and the loss is: 208.91007336750002\n",
      "When time is : 1000, get best_k: -9.11062351687493 best_b: 81.14594417449553, and the loss is: 208.86861946041537\n",
      "When time is : 1050, get best_k: -9.106531375190084 best_b: 81.13231873267635, and the loss is: 208.8281324962795\n",
      "When time is : 1100, get best_k: -9.103081455181375 best_b: 81.11859404587169, and the loss is: 208.7880755192396\n",
      "When time is : 1150, get best_k: -9.100057212093223 best_b: 81.10480415580871, and the loss is: 208.74821272585328\n",
      "When time is : 1200, get best_k: -9.097315145795255 best_b: 81.09097162122917, and the loss is: 208.70844056263365\n",
      "When time is : 1250, get best_k: -9.094760161450658 best_b: 81.07711139131733, and the loss is: 208.66871355316735\n",
      "When time is : 1300, get best_k: -9.09232924149645 best_b: 81.06323337254746, and the loss is: 208.62901172536976\n",
      "When time is : 1350, get best_k: -9.08998062537318 best_b: 81.04934412968495, and the loss is: 208.58932630728822\n",
      "When time is : 1400, get best_k: -9.087686639136148 best_b: 81.03544801300804, and the loss is: 208.54965344546446\n",
      "When time is : 1450, get best_k: -9.085428943774211 best_b: 81.02154790529625, and the loss is: 208.5099914463822\n",
      "When time is : 1500, get best_k: -9.08319538636039 best_b: 81.0076457168452, and the loss is: 208.47033956505317\n",
      "When time is : 1550, get best_k: -9.08097791336885 best_b: 80.99374271350389, and the loss is: 208.4306974730322\n",
      "When time is : 1600, get best_k: -9.078771187869448 best_b: 80.97983973405887, and the loss is: 208.3910650247996\n",
      "When time is : 1650, get best_k: -9.076571673168738 best_b: 80.96593733429015, and the loss is: 208.3514421551647\n",
      "When time is : 1700, get best_k: -9.074377025556105 best_b: 80.95203588243497, and the loss is: 208.3118288342156\n",
      "When time is : 1750, get best_k: -9.07218569188813 best_b: 80.93813562244945, and the loss is: 208.2722250475313\n",
      "When time is : 1800, get best_k: -9.069996642915353 best_b: 80.92423671593083, and the loss is: 208.23263078749414\n",
      "When time is : 1850, get best_k: -9.067809196562939 best_b: 80.91033926989877, and the loss is: 208.19304604947604\n",
      "When time is : 1900, get best_k: -9.06562290082213 best_b: 80.89644335520559, and the loss is: 208.1534708301607\n",
      "When time is : 1950, get best_k: -9.063437456144607 best_b: 80.88254901873586, and the loss is: 208.1139051268083\n"
     ]
    }
   ],
   "source": [
    "trying_times = 2000\n",
    "\n",
    "X, y = data['data'], data['target']\n",
    "\n",
    "min_loss = float('inf') \n",
    "\n",
    "current_k = random.random() * 200 - 100\n",
    "current_b = random.random() * 200 - 100\n",
    "\n",
    "learning_rate = 1e-04\n",
    "\n",
    "\n",
    "update_time = 0\n",
    "\n",
    "for i in range(trying_times):\n",
    "    \n",
    "    price_by_k_and_b = [price(r, current_k, current_b) for r in X_rm]\n",
    "    \n",
    "    current_loss = loss(y, price_by_k_and_b)\n",
    "\n",
    "    if current_loss < min_loss: # performance became better\n",
    "        min_loss = current_loss\n",
    "        best_k,best_b=current_k,current_b\n",
    "        \n",
    "        if i % 50 == 0: \n",
    "            print('When time is : {}, get best_k: {} best_b: {}, \\\n",
    "            and the loss is: {}'.\\\n",
    "                  format(i, best_k, best_b, min_loss))\n",
    "\n",
    "    k_gradient = partial_k(X_rm, y, price_by_k_and_b)\n",
    "    \n",
    "    b_gradient = partial_b(X_rm, y, price_by_k_and_b)\n",
    "    \n",
    "    current_k = current_k + (-1 * k_gradient) * learning_rate\n",
    "\n",
    "    current_b = current_b + (-1 * b_gradient) * learning_rate"
   ]
  },
  {
   "cell_type": "code",
   "execution_count": 65,
   "metadata": {},
   "outputs": [],
   "source": [
    "y = 10"
   ]
  },
  {
   "cell_type": "code",
   "execution_count": 68,
   "metadata": {},
   "outputs": [
    {
     "data": {
      "text/plain": [
       "<matplotlib.collections.PathCollection at 0x1a1f2b0e10>"
      ]
     },
     "execution_count": 68,
     "metadata": {},
     "output_type": "execute_result"
    },
    {
     "data": {
      "image/png": "[encoded data removed]",
      "text/plain": [
       "<Figure size 432x288 with 1 Axes>"
      ]
     },
     "metadata": {
      "needs_background": "light"
     },
     "output_type": "display_data"
    }
   ],
   "source": [
    "X_rm = X[:, 5]\n",
    "k = 11.431551629413757\n",
    "b = -49.52403584539048\n",
    "price_by_random_k_and_b = [price(r, k, b) for r in X_rm]\n",
    "\n",
    "draw_rm_and_price()\n",
    "plt.scatter(X_rm, price_by_random_k_and_b)"
   ]
  },
  {
   "cell_type": "markdown",
   "metadata": {},
   "source": [
    "## Breaking: 10:03 PM Continue :)"
   ]
  },
  {
   "cell_type": "code",
   "execution_count": 357,
   "metadata": {},
   "outputs": [
    {
     "data": {
      "text/plain": [
       "2.0"
      ]
     },
     "execution_count": 357,
     "metadata": {},
     "output_type": "execute_result"
    }
   ],
   "source": [
    "loss([1, 1, 1], [2, 2, 3])"
   ]
  },
  {
   "cell_type": "code",
   "execution_count": 69,
   "metadata": {},
   "outputs": [],
   "source": [
    "import time"
   ]
  },
  {
   "cell_type": "code",
   "execution_count": 71,
   "metadata": {},
   "outputs": [
    {
     "name": "stdout",
     "output_type": "stream",
     "text": [
      "R U ready?\n",
      "R U ready?\n",
      "R U ready?\n",
      "R U ready?\n",
      "R U ready?\n",
      "R U ready?\n",
      "R U ready?\n",
      "R U ready?\n",
      "R U ready?\n",
      "R U ready?\n",
      "R U ready?\n"
     ]
    },
    {
     "ename": "KeyboardInterrupt",
     "evalue": "",
     "output_type": "error",
     "traceback": [
      "\u001b[0;31m---------------------------------------------------------------------------\u001b[0m",
      "\u001b[0;31mKeyboardInterrupt\u001b[0m                         Traceback (most recent call last)",
      "\u001b[0;32m<ipython-input-71-517827af49f7>\u001b[0m in \u001b[0;36m<module>\u001b[0;34m\u001b[0m\n\u001b[1;32m      1\u001b[0m \u001b[0;32mfor\u001b[0m \u001b[0mi\u001b[0m \u001b[0;32min\u001b[0m \u001b[0mrange\u001b[0m\u001b[0;34m(\u001b[0m\u001b[0;36m100\u001b[0m\u001b[0;34m)\u001b[0m\u001b[0;34m:\u001b[0m\u001b[0;34m\u001b[0m\u001b[0;34m\u001b[0m\u001b[0m\n\u001b[1;32m      2\u001b[0m     \u001b[0mprint\u001b[0m\u001b[0;34m(\u001b[0m\u001b[0;34m'R U ready?'\u001b[0m\u001b[0;34m)\u001b[0m\u001b[0;34m\u001b[0m\u001b[0;34m\u001b[0m\u001b[0m\n\u001b[0;32m----> 3\u001b[0;31m     \u001b[0mtime\u001b[0m\u001b[0;34m.\u001b[0m\u001b[0msleep\u001b[0m\u001b[0;34m(\u001b[0m\u001b[0;36m1\u001b[0m\u001b[0;34m)\u001b[0m\u001b[0;34m\u001b[0m\u001b[0;34m\u001b[0m\u001b[0m\n\u001b[0m",
      "\u001b[0;31mKeyboardInterrupt\u001b[0m: "
     ]
    }
   ],
   "source": [
    "for i in range(100):\n",
    "    print('R U ready?')\n",
    "    time.sleep(1)"
   ]
  },
  {
   "cell_type": "code",
   "execution_count": 358,
   "metadata": {},
   "outputs": [
    {
     "data": {
      "text/plain": [
       "0.0"
      ]
     },
     "execution_count": 358,
     "metadata": {},
     "output_type": "execute_result"
    }
   ],
   "source": [
    "loss([1, 1, 1], [1, 1, 1])"
   ]
  },
  {
   "cell_type": "code",
   "execution_count": 289,
   "metadata": {},
   "outputs": [
    {
     "data": {
      "text/plain": [
       "array(['CRIM', 'ZN', 'INDUS', 'CHAS', 'NOX', 'RM', 'AGE', 'DIS', 'RAD',\n",
       "       'TAX', 'PTRATIO', 'B', 'LSTAT'], dtype='<U7')"
      ]
     },
     "execution_count": 289,
     "metadata": {},
     "output_type": "execute_result"
    }
   ],
   "source": [
    "data['feature_names']"
   ]
  },
  {
   "cell_type": "code",
   "execution_count": 284,
   "metadata": {},
   "outputs": [
    {
     "data": {
      "text/plain": [
       "\".. _boston_dataset:\\n\\nBoston house prices dataset\\n---------------------------\\n\\n**Data Set Characteristics:**  \\n\\n    :Number of Instances: 506 \\n\\n    :Number of Attributes: 13 numeric/categorical predictive. Median Value (attribute 14) is usually the target.\\n\\n    :Attribute Information (in order):\\n        - CRIM     per capita crime rate by town\\n        - ZN       proportion of residential land zoned for lots over 25,000 sq.ft.\\n        - INDUS    proportion of non-retail business acres per town\\n        - CHAS     Charles River dummy variable (= 1 if tract bounds river; 0 otherwise)\\n        - NOX      nitric oxides concentration (parts per 10 million)\\n        - RM       average number of rooms per dwelling\\n        - AGE      proportion of owner-occupied units built prior to 1940\\n        - DIS      weighted distances to five Boston employment centres\\n        - RAD      index of accessibility to radial highways\\n        - TAX      full-value property-tax rate per $10,000\\n        - PTRATIO  pupil-teacher ratio by town\\n        - B        1000(Bk - 0.63)^2 where Bk is the proportion of blacks by town\\n        - LSTAT    % lower status of the population\\n        - MEDV     Median value of owner-occupied homes in $1000's\\n\\n    :Missing Attribute Values: None\\n\\n    :Creator: Harrison, D. and Rubinfeld, D.L.\\n\\nThis is a copy of UCI ML housing dataset.\\nhttps://archive.ics.uci.edu/ml/machine-learning-databases/housing/\\n\\n\\nThis dataset was taken from the StatLib library which is maintained at Carnegie Mellon University.\\n\\nThe Boston house-price data of Harrison, D. and Rubinfeld, D.L. 'Hedonic\\nprices and the demand for clean air', J. Environ. Economics & Management,\\nvol.5, 81-102, 1978.   Used in Belsley, Kuh & Welsch, 'Regression diagnostics\\n...', Wiley, 1980.   N.B. Various transformations are used in the table on\\npages 244-261 of the latter.\\n\\nThe Boston house-price data has been used in many machine learning papers that address regression\\nproblems.   \\n     \\n.. topic:: References\\n\\n   - Belsley, Kuh & Welsch, 'Regression diagnostics: Identifying Influential Data and Sources of Collinearity', Wiley, 1980. 244-261.\\n   - Quinlan,R. (1993). Combining Instance-Based and Model-Based Learning. In Proceedings on the Tenth International Conference of Machine Learning, 236-243, University of Massachusetts, Amherst. Morgan Kaufmann.\\n\""
      ]
     },
     "execution_count": 284,
     "metadata": {},
     "output_type": "execute_result"
    }
   ],
   "source": [
    "data['DESCR']"
   ]
  },
  {
   "cell_type": "code",
   "execution_count": null,
   "metadata": {},
   "outputs": [],
   "source": []
  },
  {
   "cell_type": "code",
   "execution_count": null,
   "metadata": {},
   "outputs": [],
   "source": []
  },
  {
   "cell_type": "code",
   "execution_count": null,
   "metadata": {},
   "outputs": [],
   "source": []
  },
  {
   "cell_type": "code",
   "execution_count": null,
   "metadata": {},
   "outputs": [],
   "source": []
  },
  {
   "cell_type": "code",
   "execution_count": null,
   "metadata": {},
   "outputs": [],
   "source": []
  },
  {
   "cell_type": "code",
   "execution_count": null,
   "metadata": {},
   "outputs": [],
   "source": []
  },
  {
   "cell_type": "code",
   "execution_count": null,
   "metadata": {},
   "outputs": [],
   "source": []
  },
  {
   "cell_type": "code",
   "execution_count": null,
   "metadata": {},
   "outputs": [],
   "source": []
  },
  {
   "cell_type": "code",
   "execution_count": null,
   "metadata": {},
   "outputs": [],
   "source": []
  },
  {
   "cell_type": "code",
   "execution_count": null,
   "metadata": {},
   "outputs": [],
   "source": []
  },
  {
   "cell_type": "code",
   "execution_count": null,
   "metadata": {},
   "outputs": [],
   "source": []
  },
  {
   "cell_type": "code",
   "execution_count": null,
   "metadata": {},
   "outputs": [],
   "source": []
  },
  {
   "cell_type": "code",
   "execution_count": null,
   "metadata": {},
   "outputs": [],
   "source": []
  },
  {
   "cell_type": "code",
   "execution_count": null,
   "metadata": {},
   "outputs": [],
   "source": []
  },
  {
   "cell_type": "code",
   "execution_count": null,
   "metadata": {},
   "outputs": [],
   "source": []
  },
  {
   "cell_type": "code",
   "execution_count": null,
   "metadata": {},
   "outputs": [],
   "source": []
  },
  {
   "cell_type": "code",
   "execution_count": null,
   "metadata": {},
   "outputs": [],
   "source": []
  },
  {
   "cell_type": "code",
   "execution_count": null,
   "metadata": {},
   "outputs": [],
   "source": []
  },
  {
   "cell_type": "code",
   "execution_count": null,
   "metadata": {},
   "outputs": [],
   "source": []
  },
  {
   "cell_type": "code",
   "execution_count": null,
   "metadata": {},
   "outputs": [],
   "source": []
  },
  {
   "cell_type": "code",
   "execution_count": null,
   "metadata": {},
   "outputs": [],
   "source": []
  },
  {
   "cell_type": "code",
   "execution_count": null,
   "metadata": {},
   "outputs": [],
   "source": []
  },
  {
   "cell_type": "code",
   "execution_count": null,
   "metadata": {},
   "outputs": [],
   "source": []
  },
  {
   "cell_type": "code",
   "execution_count": null,
   "metadata": {},
   "outputs": [],
   "source": []
  }
 ],
 "metadata": {
  "kernelspec": {
   "display_name": "Python 3",
   "language": "python",
   "name": "python3"
  },
  "language_info": {
   "codemirror_mode": {
    "name": "ipython",
    "version": 3
   },
   "file_extension": ".py",
   "mimetype": "text/x-python",
   "name": "python",
   "nbconvert_exporter": "python",
   "pygments_lexer": "ipython3",
   "version": "3.7.0"
  }
 },
 "nbformat": 4,
 "nbformat_minor": 2
}
