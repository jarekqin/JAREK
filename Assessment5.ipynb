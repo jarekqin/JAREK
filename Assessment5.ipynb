{
 "cells": [
  {
   "cell_type": "markdown",
   "metadata": {},
   "source": [
    "Summarize the reasons of overfitting and\n",
    "underfitting"
   ]
  },
  {
   "cell_type": "markdown",
   "metadata": {},
   "source": [
    "Overfitting:\n",
    "1. Test data and trainning data do not follow same distribution;\n",
    "2. Data is less than commomnplace;\n",
    "3. There is a diamisional explosion on features;\n",
    "4. Model is too complex to use.\n",
    "\n",
    "Underfitting:\n",
    "1. Features less than models needsl\n",
    "2. Model is too sample to use.\n"
   ]
  },
  {
   "cell_type": "markdown",
   "metadata": {},
   "source": [
    "Writing down three sceneries that machine learning has\n",
    "been used now"
   ]
  },
  {
   "cell_type": "markdown",
   "metadata": {},
   "source": [
    "Used Scenario:\n",
    "1. Finacial Investment Management;\n",
    "2. Medical Diagnosis;\n",
    "3. Customers Consuming Prediction."
   ]
  },
  {
   "cell_type": "markdown",
   "metadata": {},
   "source": [
    "Come out with three new sceneries with which machine\n",
    "learning may be applied"
   ]
  },
  {
   "cell_type": "markdown",
   "metadata": {},
   "source": [
    "New Scenario:\n",
    "1. Human-made Foods Analysis;\n",
    "2. Mars Landing Plan;\n",
    "3. Proof Unresolved Mathamatic Theorem"
   ]
  }
 ],
 "metadata": {
  "kernelspec": {
   "display_name": "Python 3",
   "language": "python",
   "name": "python3"
  },
  "language_info": {
   "codemirror_mode": {
    "name": "ipython",
    "version": 3
   },
   "file_extension": ".py",
   "mimetype": "text/x-python",
   "name": "python",
   "nbconvert_exporter": "python",
   "pygments_lexer": "ipython3",
   "version": "3.7.3"
  }
 },
 "nbformat": 4,
 "nbformat_minor": 2
}
