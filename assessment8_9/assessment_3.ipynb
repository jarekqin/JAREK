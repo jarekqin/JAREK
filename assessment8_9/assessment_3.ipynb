{
 "cells": [
  {
   "cell_type": "markdown",
   "metadata": {
    "colab_type": "text",
    "id": "kR-4eNdK6lYS"
   },
   "source": [
    "Deep Learning\n",
    "=============\n",
    "\n",
    "Assignment 3\n",
    "------------\n",
    "\n",
    "Previously in `2_fullyconnected.ipynb`, you trained a logistic regression and a neural network model.\n",
    "\n",
    "The goal of this assignment is to explore regularization techniques."
   ]
  },
  {
   "cell_type": "code",
   "execution_count": 1,
   "metadata": {
    "cellView": "both",
    "colab": {
     "autoexec": {
      "startup": false,
      "wait_interval": 0
     }
    },
    "colab_type": "code",
    "id": "JLpLa8Jt7Vu4"
   },
   "outputs": [],
   "source": [
    "# These are all the modules we'll be using later. Make sure you can import them\n",
    "# before proceeding further.\n",
    "from __future__ import print_function\n",
    "import numpy as np\n",
    "import tensorflow as tf\n",
    "from six.moves import cPickle as pickle"
   ]
  },
  {
   "cell_type": "markdown",
   "metadata": {
    "colab_type": "text",
    "id": "1HrCK6e17WzV"
   },
   "source": [
    "First reload the data we generated in `1_notmnist.ipynb`."
   ]
  },
  {
   "cell_type": "code",
   "execution_count": 2,
   "metadata": {
    "cellView": "both",
    "colab": {
     "autoexec": {
      "startup": false,
      "wait_interval": 0
     },
     "output_extras": [
      {
       "item_id": 1
      }
     ]
    },
    "colab_type": "code",
    "executionInfo": {
     "elapsed": 11777,
     "status": "ok",
     "timestamp": 1449849322348,
     "user": {
      "color": "",
      "displayName": "",
      "isAnonymous": false,
      "isMe": true,
      "permissionId": "",
      "photoUrl": "",
      "sessionId": "0",
      "userId": ""
     },
     "user_tz": 480
    },
    "id": "y3-cj1bpmuxc",
    "outputId": "e03576f1-ebbe-4838-c388-f1777bcc9873"
   },
   "outputs": [
    {
     "name": "stdout",
     "output_type": "stream",
     "text": [
      "Training set (200000, 28, 28) (200000,)\n",
      "Validation set (10000, 28, 28) (10000,)\n",
      "Test set (10000, 28, 28) (10000,)\n"
     ]
    }
   ],
   "source": [
    "pickle_file = 'notMNIST.pickle'\n",
    "\n",
    "with open(pickle_file, 'rb') as f:\n",
    "  save = pickle.load(f)\n",
    "  train_dataset = save['train_dataset']\n",
    "  train_labels = save['train_labels']\n",
    "  valid_dataset = save['valid_dataset']\n",
    "  valid_labels = save['valid_labels']\n",
    "  test_dataset = save['test_dataset']\n",
    "  test_labels = save['test_labels']\n",
    "  del save  # hint to help gc free up memory\n",
    "  print('Training set', train_dataset.shape, train_labels.shape)\n",
    "  print('Validation set', valid_dataset.shape, valid_labels.shape)\n",
    "  print('Test set', test_dataset.shape, test_labels.shape)"
   ]
  },
  {
   "cell_type": "markdown",
   "metadata": {
    "colab_type": "text",
    "id": "L7aHrm6nGDMB"
   },
   "source": [
    "Reformat into a shape that's more adapted to the models we're going to train:\n",
    "- data as a flat matrix,\n",
    "- labels as float 1-hot encodings."
   ]
  },
  {
   "cell_type": "code",
   "execution_count": 3,
   "metadata": {
    "cellView": "both",
    "colab": {
     "autoexec": {
      "startup": false,
      "wait_interval": 0
     },
     "output_extras": [
      {
       "item_id": 1
      }
     ]
    },
    "colab_type": "code",
    "executionInfo": {
     "elapsed": 11728,
     "status": "ok",
     "timestamp": 1449849322356,
     "user": {
      "color": "",
      "displayName": "",
      "isAnonymous": false,
      "isMe": true,
      "permissionId": "",
      "photoUrl": "",
      "sessionId": "0",
      "userId": ""
     },
     "user_tz": 480
    },
    "id": "IRSyYiIIGIzS",
    "outputId": "3f8996ee-3574-4f44-c953-5c8a04636582"
   },
   "outputs": [
    {
     "name": "stdout",
     "output_type": "stream",
     "text": [
      "Training set (200000, 784) (200000, 10)\n",
      "Validation set (10000, 784) (10000, 10)\n",
      "Test set (10000, 784) (10000, 10)\n"
     ]
    }
   ],
   "source": [
    "image_size = 28\n",
    "num_labels = 10\n",
    "\n",
    "def reformat(dataset, labels):\n",
    "  dataset = dataset.reshape((-1, image_size * image_size)).astype(np.float32)\n",
    "  # Map 1 to [0.0, 1.0, 0.0 ...], 2 to [0.0, 0.0, 1.0 ...]\n",
    "  labels = (np.arange(num_labels) == labels[:,None]).astype(np.float32)\n",
    "  return dataset, labels\n",
    "train_dataset, train_labels = reformat(train_dataset, train_labels)\n",
    "valid_dataset, valid_labels = reformat(valid_dataset, valid_labels)\n",
    "test_dataset, test_labels = reformat(test_dataset, test_labels)\n",
    "print('Training set', train_dataset.shape, train_labels.shape)\n",
    "print('Validation set', valid_dataset.shape, valid_labels.shape)\n",
    "print('Test set', test_dataset.shape, test_labels.shape)"
   ]
  },
  {
   "cell_type": "code",
   "execution_count": 4,
   "metadata": {
    "cellView": "both",
    "colab": {
     "autoexec": {
      "startup": false,
      "wait_interval": 0
     }
    },
    "colab_type": "code",
    "id": "RajPLaL_ZW6w"
   },
   "outputs": [],
   "source": [
    "def accuracy(predictions, labels):\n",
    "  return (100.0 * np.sum(np.argmax(predictions, 1) == np.argmax(labels, 1))\n",
    "          / predictions.shape[0])"
   ]
  },
  {
   "cell_type": "markdown",
   "metadata": {
    "colab_type": "text",
    "id": "sgLbUAQ1CW-1"
   },
   "source": [
    "---\n",
    "Problem 1\n",
    "---------\n",
    "\n",
    "Introduce and tune L2 regularization for both logistic and neural network models. Remember that L2 amounts to adding a penalty on the norm of the weights to the loss. In TensorFlow, you can compute the L2 loss for a tensor `t` using `nn.l2_loss(t)`. The right amount of regularization should improve your validation / test accuracy.\n",
    "\n",
    "---"
   ]
  },
  {
   "cell_type": "code",
   "execution_count": 6,
   "metadata": {},
   "outputs": [
    {
     "name": "stdout",
     "output_type": "stream",
     "text": [
      "mini batch loss at step :0 is: 3525.47\n",
      "minibatch accuracy: 6.25%\n",
      "Validation accuracy: 30.6%\n",
      "mini batch loss at step :500 is: 21.33\n",
      "minibatch accuracy: 78.12%\n",
      "Validation accuracy: 84.9%\n",
      "mini batch loss at step :1000 is: 0.86\n",
      "minibatch accuracy: 81.25%\n",
      "Validation accuracy: 83.6%\n",
      "mini batch loss at step :1500 is: 0.61\n",
      "minibatch accuracy: 87.50%\n",
      "Validation accuracy: 84.0%\n",
      "mini batch loss at step :2000 is: 0.73\n",
      "minibatch accuracy: 83.59%\n",
      "Validation accuracy: 83.2%\n",
      "mini batch loss at step :2500 is: 0.63\n",
      "minibatch accuracy: 86.72%\n",
      "Validation accuracy: 83.9%\n",
      "mini batch loss at step :3000 is: 0.71\n",
      "minibatch accuracy: 82.81%\n",
      "Validation accuracy: 83.6%\n",
      "Test accuracy: 90.3%\n"
     ]
    }
   ],
   "source": [
    "image_size = 28\n",
    "num_labels = 10\n",
    "batch_size=128 # 随机梯度下降时候的数据大小\n",
    "hidden_layer_nodes=1024\n",
    "decay_rate=0.01\n",
    "\n",
    "graph=tf.Graph()\n",
    "with graph.as_default():\n",
    "    train_data_set=tf.placeholder(tf.float32,shape=[batch_size,image_size*image_size])\n",
    "    train_data_label=tf.placeholder(tf.float32,shape=[batch_size,num_labels])\n",
    "    # 对验证集和测试集做常值的定义\n",
    "    validation_data_set=tf.constant(valid_dataset)\n",
    "    test_data_set=tf.constant(test_dataset)\n",
    "    # 定义随机初始化隐藏层的权重和偏执项\n",
    "    hidden_weights=tf.Variable(tf.truncated_normal([image_size*image_size,hidden_layer_nodes]))\n",
    "    hidden_biases=tf.Variable(tf.zeros([hidden_layer_nodes]))\n",
    "    hidden_layers=tf.nn.relu(tf.matmul(train_data_set,hidden_weights)+hidden_biases)\n",
    "    \n",
    "    # 设置全连接层\n",
    "    out_weights=tf.Variable(tf.truncated_normal([hidden_layer_nodes,num_labels]))\n",
    "    out_biases=tf.Variable(tf.zeros([num_labels]))\n",
    "    out_layers=tf.matmul(hidden_layers,out_weights)+out_biases\n",
    "    \n",
    "    # 设置损失函数+对隐含层和输出层的权重/偏执项都加上l2惩罚\n",
    "    loss=tf.reduce_mean(tf.nn.softmax_cross_entropy_with_logits_v2(logits=out_layers,labels=train_data_label)) +\\\n",
    "                        decay_rate*tf.nn.l2_loss(hidden_weights) +\\\n",
    "                        decay_rate*tf.nn.l2_loss(hidden_biases) +\\\n",
    "                        decay_rate*tf.nn.l2_loss(out_weights) +\\\n",
    "                        decay_rate*tf.nn.l2_loss(out_biases)\n",
    "\n",
    "    optimiser=tf.train.GradientDescentOptimizer(0.5).minimize(loss)\n",
    "    train_prediction=tf.nn.softmax(out_layers)\n",
    "    # 预测检验数据集\n",
    "    valid_hidden_layer=tf.nn.relu(tf.matmul(validation_data_set,hidden_weights)+hidden_biases)\n",
    "    valid_prediction=tf.nn.softmax(tf.matmul(valid_hidden_layer,out_weights)+out_biases)\n",
    "    # 预测测试数据集\n",
    "    test_hidden_layer=tf.nn.relu(tf.matmul(test_data_set,hidden_weights)+hidden_biases)\n",
    "    test_prediction=tf.nn.softmax(tf.matmul(test_hidden_layer,out_weights)+out_biases)\n",
    "    \n",
    "def accuracy(predictions, labels):\n",
    "    return (100.0 * np.sum(np.argmax(predictions, 1) == np.argmax(labels, 1))\n",
    "          / predictions.shape[0])\n",
    "# 训练模型\n",
    "epoch_steps=3001\n",
    "\n",
    "with tf.Session(graph=graph) as sess:\n",
    "    tf.global_variables_initializer().run()\n",
    "    for epoch in range(epoch_steps):\n",
    "        offset=(epoch*batch_size) % (train_labels.shape[0]-batch_size)\n",
    "        batch_data=train_dataset[offset:(offset+batch_size),:]\n",
    "        batch_labels=train_labels[offset:(offset+batch_size),:]\n",
    "        feed_dict={train_data_set:batch_data,train_data_label:batch_labels}\n",
    "        _,l,predictions=sess.run([optimiser,loss,train_prediction],feed_dict=feed_dict)\n",
    "        if epoch % 500 ==0:\n",
    "            print('mini batch loss at step :%d is: %0.2f' % (epoch,l))\n",
    "            print('minibatch accuracy: %0.2f%%' % accuracy(predictions,batch_labels))\n",
    "            print(\"Validation accuracy: %.1f%%\" % accuracy(\n",
    "                    valid_prediction.eval(), valid_labels))\n",
    "    print(\"Test accuracy: %.1f%%\" % accuracy(test_prediction.eval(), test_labels))"
   ]
  },
  {
   "cell_type": "markdown",
   "metadata": {
    "colab_type": "text",
    "id": "na8xX2yHZzNF"
   },
   "source": [
    "---\n",
    "Problem 2\n",
    "---------\n",
    "Let's demonstrate an extreme case of overfitting. Restrict your training data to just a few batches. What happens?\n",
    "\n",
    "---"
   ]
  },
  {
   "cell_type": "markdown",
   "metadata": {},
   "source": [
    "ANS:Few batches make accuracy on training data unstable, as well as make validated data unstable."
   ]
  },
  {
   "cell_type": "code",
   "execution_count": 9,
   "metadata": {},
   "outputs": [
    {
     "name": "stdout",
     "output_type": "stream",
     "text": [
      "mini batch loss at step :0 is: 3545.77\n",
      "minibatch accuracy: 13.75%\n",
      "Validation accuracy: 25.3%\n",
      "mini batch loss at step :500 is: 21.25\n",
      "minibatch accuracy: 87.50%\n",
      "Validation accuracy: 83.4%\n",
      "mini batch loss at step :1000 is: 1.10\n",
      "minibatch accuracy: 75.00%\n",
      "Validation accuracy: 83.3%\n",
      "mini batch loss at step :1500 is: 0.82\n",
      "minibatch accuracy: 82.50%\n",
      "Validation accuracy: 83.5%\n",
      "mini batch loss at step :2000 is: 0.77\n",
      "minibatch accuracy: 80.00%\n",
      "Validation accuracy: 82.2%\n",
      "mini batch loss at step :2500 is: 0.80\n",
      "minibatch accuracy: 80.00%\n",
      "Validation accuracy: 82.3%\n",
      "mini batch loss at step :3000 is: 0.72\n",
      "minibatch accuracy: 85.00%\n",
      "Validation accuracy: 82.8%\n",
      "Test accuracy: 89.4%\n"
     ]
    }
   ],
   "source": [
    "image_size = 28\n",
    "num_labels = 10\n",
    "batch_size=80 # 随机梯度下降时候的数据大小\n",
    "hidden_layer_nodes=1024\n",
    "decay_rate=0.01\n",
    "\n",
    "graph=tf.Graph()\n",
    "with graph.as_default():\n",
    "    train_data_set=tf.placeholder(tf.float32,shape=[batch_size,image_size*image_size])\n",
    "    train_data_label=tf.placeholder(tf.float32,shape=[batch_size,num_labels])\n",
    "    # 对验证集和测试集做常值的定义\n",
    "    validation_data_set=tf.constant(valid_dataset)\n",
    "    test_data_set=tf.constant(test_dataset)\n",
    "    # 定义随机初始化隐藏层的权重和偏执项\n",
    "    hidden_weights=tf.Variable(tf.truncated_normal([image_size*image_size,hidden_layer_nodes]))\n",
    "    hidden_biases=tf.Variable(tf.zeros([hidden_layer_nodes]))\n",
    "    hidden_layers=tf.nn.relu(tf.matmul(train_data_set,hidden_weights)+hidden_biases)\n",
    "    \n",
    "    # 设置全连接层\n",
    "    out_weights=tf.Variable(tf.truncated_normal([hidden_layer_nodes,num_labels]))\n",
    "    out_biases=tf.Variable(tf.zeros([num_labels]))\n",
    "    out_layers=tf.matmul(hidden_layers,out_weights)+out_biases\n",
    "    \n",
    "    # 设置损失函数+对隐含层和输出层的权重/偏执项都加上l2惩罚\n",
    "    loss=tf.reduce_mean(tf.nn.softmax_cross_entropy_with_logits_v2(logits=out_layers,labels=train_data_label)) +\\\n",
    "                        decay_rate*tf.nn.l2_loss(hidden_weights) +\\\n",
    "                        decay_rate*tf.nn.l2_loss(hidden_biases) +\\\n",
    "                        decay_rate*tf.nn.l2_loss(out_weights) +\\\n",
    "                        decay_rate*tf.nn.l2_loss(out_biases)\n",
    "\n",
    "    optimiser=tf.train.GradientDescentOptimizer(0.5).minimize(loss)\n",
    "    train_prediction=tf.nn.softmax(out_layers)\n",
    "    # 预测检验数据集\n",
    "    valid_hidden_layer=tf.nn.relu(tf.matmul(validation_data_set,hidden_weights)+hidden_biases)\n",
    "    valid_prediction=tf.nn.softmax(tf.matmul(valid_hidden_layer,out_weights)+out_biases)\n",
    "    # 预测测试数据集\n",
    "    test_hidden_layer=tf.nn.relu(tf.matmul(test_data_set,hidden_weights)+hidden_biases)\n",
    "    test_prediction=tf.nn.softmax(tf.matmul(test_hidden_layer,out_weights)+out_biases)\n",
    "    \n",
    "def accuracy(predictions, labels):\n",
    "    return (100.0 * np.sum(np.argmax(predictions, 1) == np.argmax(labels, 1))\n",
    "          / predictions.shape[0])\n",
    "# 训练模型\n",
    "epoch_steps=3001\n",
    "\n",
    "with tf.Session(graph=graph) as sess:\n",
    "    tf.global_variables_initializer().run()\n",
    "    for epoch in range(epoch_steps):\n",
    "        offset=(epoch*batch_size) % (train_labels.shape[0]-batch_size)\n",
    "        batch_data=train_dataset[offset:(offset+batch_size),:]\n",
    "        batch_labels=train_labels[offset:(offset+batch_size),:]\n",
    "        feed_dict={train_data_set:batch_data,train_data_label:batch_labels}\n",
    "        _,l,predictions=sess.run([optimiser,loss,train_prediction],feed_dict=feed_dict)\n",
    "        if epoch % 500 ==0:\n",
    "            print('mini batch loss at step :%d is: %0.2f' % (epoch,l))\n",
    "            print('minibatch accuracy: %0.2f%%' % accuracy(predictions,batch_labels))\n",
    "            print(\"Validation accuracy: %.1f%%\" % accuracy(\n",
    "                    valid_prediction.eval(), valid_labels))\n",
    "    print(\"Test accuracy: %.1f%%\" % accuracy(test_prediction.eval(), test_labels))"
   ]
  },
  {
   "cell_type": "markdown",
   "metadata": {
    "colab_type": "text",
    "id": "ww3SCBUdlkRc"
   },
   "source": [
    "---\n",
    "Problem 3\n",
    "---------\n",
    "Introduce Dropout on the hidden layer of the neural network. Remember: Dropout should only be introduced during training, not evaluation, otherwise your evaluation results would be stochastic as well. TensorFlow provides `nn.dropout()` for that, but you have to make sure it's only inserted during training.\n",
    "\n",
    "What happens to our extreme overfitting case?\n",
    "\n",
    "---"
   ]
  },
  {
   "cell_type": "code",
   "execution_count": 15,
   "metadata": {},
   "outputs": [
    {
     "name": "stdout",
     "output_type": "stream",
     "text": [
      "mini batch loss at step :0 is: 3525.36\n",
      "minibatch accuracy: 9.38%\n",
      "Validation accuracy: 26.1%\n",
      "mini batch loss at step :500 is: 21.37\n",
      "minibatch accuracy: 81.25%\n",
      "Validation accuracy: 84.2%\n",
      "mini batch loss at step :1000 is: 0.87\n",
      "minibatch accuracy: 81.25%\n",
      "Validation accuracy: 83.5%\n",
      "mini batch loss at step :1500 is: 0.61\n",
      "minibatch accuracy: 86.72%\n",
      "Validation accuracy: 83.9%\n",
      "mini batch loss at step :2000 is: 0.73\n",
      "minibatch accuracy: 82.81%\n",
      "Validation accuracy: 83.3%\n",
      "mini batch loss at step :2500 is: 0.62\n",
      "minibatch accuracy: 86.72%\n",
      "Validation accuracy: 84.0%\n",
      "mini batch loss at step :3000 is: 0.71\n",
      "minibatch accuracy: 83.59%\n",
      "Validation accuracy: 83.5%\n",
      "Test accuracy: 90.4%\n"
     ]
    }
   ],
   "source": [
    "image_size = 28\n",
    "num_labels = 10\n",
    "batch_size=128 # 随机梯度下降时候的数据大小\n",
    "hidden_layer_nodes=1024\n",
    "decay_rate=0.01\n",
    "keep_prob=0.6\n",
    "\n",
    "graph=tf.Graph()\n",
    "with graph.as_default():\n",
    "    train_data_set=tf.placeholder(tf.float32,shape=[batch_size,image_size*image_size])\n",
    "    train_data_label=tf.placeholder(tf.float32,shape=[batch_size,num_labels])\n",
    "    # 对验证集和测试集做常值的定义\n",
    "    validation_data_set=tf.constant(valid_dataset)\n",
    "    test_data_set=tf.constant(test_dataset)\n",
    "    # 定义随机初始化隐藏层的权重和偏执项\n",
    "    hidden_weights=tf.Variable(tf.truncated_normal([image_size*image_size,hidden_layer_nodes]))\n",
    "    hidden_biases=tf.Variable(tf.zeros([hidden_layer_nodes]))\n",
    "    hidden_layers=tf.nn.relu(tf.matmul(train_data_set,hidden_weights)+hidden_biases)\n",
    "    # 引入dropout机制\n",
    "    dropout_layer=tf.nn.dropout(hidden_layers,rate=1-keep_prob)\n",
    "    \n",
    "    # 设置全连接层\n",
    "    out_weights=tf.Variable(tf.truncated_normal([hidden_layer_nodes,num_labels]))\n",
    "    out_biases=tf.Variable(tf.zeros([num_labels]))\n",
    "    out_layers=tf.matmul(hidden_layers,out_weights)+out_biases\n",
    "    \n",
    "    # 设置损失函数+对隐含层和输出层的权重/偏执项都加上l2惩罚\n",
    "    loss=tf.reduce_mean(tf.nn.softmax_cross_entropy_with_logits_v2(logits=out_layers,labels=train_data_label)) +\\\n",
    "                        decay_rate*tf.nn.l2_loss(hidden_weights) +\\\n",
    "                        decay_rate*tf.nn.l2_loss(hidden_biases) +\\\n",
    "                        decay_rate*tf.nn.l2_loss(out_weights) +\\\n",
    "                        decay_rate*tf.nn.l2_loss(out_biases)\n",
    "\n",
    "    optimiser=tf.train.GradientDescentOptimizer(0.5).minimize(loss)\n",
    "    train_prediction=tf.nn.softmax(out_layers)\n",
    "    # 预测检验数据集\n",
    "    valid_hidden_layer=tf.nn.relu(tf.matmul(validation_data_set,hidden_weights)+hidden_biases)\n",
    "    valid_prediction=tf.nn.softmax(tf.matmul(valid_hidden_layer,out_weights)+out_biases)\n",
    "    # 预测测试数据集\n",
    "    test_hidden_layer=tf.nn.relu(tf.matmul(test_data_set,hidden_weights)+hidden_biases)\n",
    "    test_prediction=tf.nn.softmax(tf.matmul(test_hidden_layer,out_weights)+out_biases)\n",
    "    \n",
    "def accuracy(predictions, labels):\n",
    "    return (100.0 * np.sum(np.argmax(predictions, 1) == np.argmax(labels, 1))\n",
    "          / predictions.shape[0])\n",
    "# 训练模型\n",
    "epoch_steps=3001\n",
    "\n",
    "with tf.Session(graph=graph) as sess:\n",
    "    tf.global_variables_initializer().run()\n",
    "    for epoch in range(epoch_steps):\n",
    "        offset=(epoch*batch_size) % (train_labels.shape[0]-batch_size)\n",
    "        batch_data=train_dataset[offset:(offset+batch_size),:]\n",
    "        batch_labels=train_labels[offset:(offset+batch_size),:]\n",
    "        feed_dict={train_data_set:batch_data,train_data_label:batch_labels}\n",
    "        _,l,predictions=sess.run([optimiser,loss,train_prediction],feed_dict=feed_dict)\n",
    "        if epoch % 500 ==0:\n",
    "            print('mini batch loss at step :%d is: %0.2f' % (epoch,l))\n",
    "            print('minibatch accuracy: %0.2f%%' % accuracy(predictions,batch_labels))\n",
    "            print(\"Validation accuracy: %.1f%%\" % accuracy(\n",
    "                    valid_prediction.eval(), valid_labels))\n",
    "    print(\"Test accuracy: %.1f%%\" % accuracy(test_prediction.eval(), test_labels))"
   ]
  },
  {
   "cell_type": "markdown",
   "metadata": {
    "colab_type": "text",
    "id": "-b1hTz3VWZjw"
   },
   "source": [
    "---\n",
    "Problem 4\n",
    "---------\n",
    "\n",
    "Try to get the best performance you can using a multi-layer model! The best reported test accuracy using a deep network is [97.1%](http://yaroslavvb.blogspot.com/2011/09/notmnist-dataset.html?showComment=1391023266211#c8758720086795711595).\n",
    "\n",
    "One avenue you can explore is to add multiple layers.\n",
    "\n",
    "Another one is to use learning rate decay:\n",
    "\n",
    "    global_step = tf.Variable(0)  # count the number of steps taken.\n",
    "    learning_rate = tf.train.exponential_decay(0.5, global_step, ...)\n",
    "    optimizer = tf.train.GradientDescentOptimizer(learning_rate).minimize(loss, global_step=global_step)\n",
    " \n",
    " ---\n"
   ]
  },
  {
   "cell_type": "code",
   "execution_count": 32,
   "metadata": {},
   "outputs": [
    {
     "name": "stdout",
     "output_type": "stream",
     "text": [
      "mini batch loss at step :0 is: 3406.80\n",
      "minibatch accuracy: 17.19%\n",
      "Validation accuracy: 33.8%\n",
      "mini batch loss at step :500 is: 21.35\n",
      "minibatch accuracy: 80.47%\n",
      "Validation accuracy: 84.6%\n",
      "mini batch loss at step :1000 is: 0.87\n",
      "minibatch accuracy: 80.47%\n",
      "Validation accuracy: 83.5%\n",
      "mini batch loss at step :1500 is: 0.60\n",
      "minibatch accuracy: 87.50%\n",
      "Validation accuracy: 83.9%\n",
      "mini batch loss at step :2000 is: 0.73\n",
      "minibatch accuracy: 82.81%\n",
      "Validation accuracy: 83.3%\n",
      "mini batch loss at step :2500 is: 0.63\n",
      "minibatch accuracy: 85.94%\n",
      "Validation accuracy: 84.0%\n",
      "mini batch loss at step :3000 is: 0.71\n",
      "minibatch accuracy: 82.81%\n",
      "Validation accuracy: 83.6%\n",
      "Test accuracy: 90.3%\n"
     ]
    }
   ],
   "source": [
    "image_size = 28\n",
    "num_labels = 10\n",
    "batch_size=128 # 随机梯度下降时候的数据大小\n",
    "hidden_layer_nodes=1024\n",
    "decay_rate=0.01\n",
    "keep_prob=0.6\n",
    "learning_rate=0.5\n",
    "\n",
    "graph=tf.Graph()\n",
    "with graph.as_default():\n",
    "    train_data_set=tf.placeholder(tf.float32,shape=[batch_size,image_size*image_size])\n",
    "    train_data_label=tf.placeholder(tf.float32,shape=[batch_size,num_labels])\n",
    "    # 对验证集和测试集做常值的定义\n",
    "    validation_data_set=tf.constant(valid_dataset)\n",
    "    test_data_set=tf.constant(test_dataset)\n",
    "    # 定义随机初始化隐藏层的权重和偏执项\n",
    "    hidden_weights=tf.Variable(tf.truncated_normal([image_size*image_size,hidden_layer_nodes]))\n",
    "    hidden_biases=tf.Variable(tf.zeros([hidden_layer_nodes]))\n",
    "    hidden_layers=tf.nn.relu(tf.matmul(train_data_set,hidden_weights)+hidden_biases)\n",
    "    # 引入dropout机制\n",
    "    dropout_layer=tf.nn.dropout(hidden_layers,rate=1-keep_prob)\n",
    "    \n",
    "    # 设置全连接层\n",
    "    out_weights=tf.Variable(tf.truncated_normal([hidden_layer_nodes,num_labels]))\n",
    "    out_biases=tf.Variable(tf.zeros([num_labels]))\n",
    "    out_layers=tf.matmul(hidden_layers,out_weights)+out_biases\n",
    "    \n",
    "    # 设置损失函数+对隐含层和输出层的权重/偏执项都加上l2惩罚\n",
    "    loss=tf.reduce_mean(tf.nn.softmax_cross_entropy_with_logits_v2(logits=out_layers,labels=train_data_label)) +\\\n",
    "                        decay_rate*tf.nn.l2_loss(hidden_weights) +\\\n",
    "                        decay_rate*tf.nn.l2_loss(hidden_biases) +\\\n",
    "                        decay_rate*tf.nn.l2_loss(out_weights) +\\\n",
    "                        decay_rate*tf.nn.l2_loss(out_biases)\n",
    "\n",
    "    # 引入学习率\n",
    "    global_step=tf.Variable(0,trainable=False)\n",
    "    learning_rate = tf.train.exponential_decay(learning_rate,global_step,500,0.96)\n",
    "    optimiser=tf.train.GradientDescentOptimizer(0.5).minimize(loss,global_step=global_step)\n",
    "    train_prediction=tf.nn.softmax(out_layers)\n",
    "    # 预测检验数据集\n",
    "    valid_hidden_layer=tf.nn.relu(tf.matmul(validation_data_set,hidden_weights)+hidden_biases)\n",
    "    valid_prediction=tf.nn.softmax(tf.matmul(valid_hidden_layer,out_weights)+out_biases)\n",
    "    # 预测测试数据集\n",
    "    test_hidden_layer=tf.nn.relu(tf.matmul(test_data_set,hidden_weights)+hidden_biases)\n",
    "    test_prediction=tf.nn.softmax(tf.matmul(test_hidden_layer,out_weights)+out_biases)\n",
    "    \n",
    "def accuracy(predictions, labels):\n",
    "    return (100.0 * np.sum(np.argmax(predictions, 1) == np.argmax(labels, 1))\n",
    "          / predictions.shape[0])\n",
    "# 训练模型\n",
    "epoch_steps=3001\n",
    "\n",
    "with tf.Session(graph=graph) as sess:\n",
    "    tf.global_variables_initializer().run()\n",
    "    for epoch in range(epoch_steps):\n",
    "        offset=(epoch*batch_size) % (train_labels.shape[0]-batch_size)\n",
    "        batch_data=train_dataset[offset:(offset+batch_size),:]\n",
    "        batch_labels=train_labels[offset:(offset+batch_size),:]\n",
    "        feed_dict={train_data_set:batch_data,train_data_label:batch_labels}\n",
    "        _,l,predictions=sess.run([optimiser,loss,train_prediction],feed_dict=feed_dict)\n",
    "        if epoch % 500 ==0:\n",
    "            print('mini batch loss at step :%d is: %0.2f' % (epoch,l))\n",
    "            print('minibatch accuracy: %0.2f%%' % accuracy(predictions,batch_labels))\n",
    "            print(\"Validation accuracy: %.1f%%\" % accuracy(\n",
    "                    valid_prediction.eval(), valid_labels))\n",
    "    print(\"Test accuracy: %.1f%%\" % accuracy(test_prediction.eval(), test_labels))"
   ]
  },
  {
   "cell_type": "code",
   "execution_count": 26,
   "metadata": {},
   "outputs": [
    {
     "name": "stdout",
     "output_type": "stream",
     "text": [
      "Help on function exponential_decay in module tensorflow.python.training.learning_rate_decay:\n",
      "\n",
      "exponential_decay(learning_rate, global_step, decay_steps, decay_rate, staircase=False, name=None)\n",
      "    Applies exponential decay to the learning rate.\n",
      "    \n",
      "    When training a model, it is often recommended to lower the learning rate as\n",
      "    the training progresses.  This function applies an exponential decay function\n",
      "    to a provided initial learning rate.  It requires a `global_step` value to\n",
      "    compute the decayed learning rate.  You can just pass a TensorFlow variable\n",
      "    that you increment at each training step.\n",
      "    \n",
      "    The function returns the decayed learning rate.  It is computed as:\n",
      "    \n",
      "    ```python\n",
      "    decayed_learning_rate = learning_rate *\n",
      "                            decay_rate ^ (global_step / decay_steps)\n",
      "    ```\n",
      "    \n",
      "    If the argument `staircase` is `True`, then `global_step / decay_steps` is an\n",
      "    integer division and the decayed learning rate follows a staircase function.\n",
      "    \n",
      "    Example: decay every 100000 steps with a base of 0.96:\n",
      "    \n",
      "    ```python\n",
      "    ...\n",
      "    global_step = tf.Variable(0, trainable=False)\n",
      "    starter_learning_rate = 0.1\n",
      "    learning_rate = tf.compat.v1.train.exponential_decay(starter_learning_rate,\n",
      "    global_step,\n",
      "                                               100000, 0.96, staircase=True)\n",
      "    # Passing global_step to minimize() will increment it at each step.\n",
      "    learning_step = (\n",
      "        tf.compat.v1.train.GradientDescentOptimizer(learning_rate)\n",
      "        .minimize(...my loss..., global_step=global_step)\n",
      "    )\n",
      "    ```\n",
      "    \n",
      "    Args:\n",
      "      learning_rate: A scalar `float32` or `float64` `Tensor` or a Python number.\n",
      "        The initial learning rate.\n",
      "      global_step: A scalar `int32` or `int64` `Tensor` or a Python number. Global\n",
      "        step to use for the decay computation.  Must not be negative.\n",
      "      decay_steps: A scalar `int32` or `int64` `Tensor` or a Python number. Must\n",
      "        be positive.  See the decay computation above.\n",
      "      decay_rate: A scalar `float32` or `float64` `Tensor` or a Python number.\n",
      "        The decay rate.\n",
      "      staircase: Boolean.  If `True` decay the learning rate at discrete intervals\n",
      "      name: String.  Optional name of the operation.  Defaults to\n",
      "        'ExponentialDecay'.\n",
      "    \n",
      "    Returns:\n",
      "      A scalar `Tensor` of the same type as `learning_rate`.  The decayed\n",
      "      learning rate.\n",
      "    \n",
      "    Raises:\n",
      "      ValueError: if `global_step` is not supplied.\n",
      "    \n",
      "    @compatibility(eager)\n",
      "    When eager execution is enabled, this function returns a function which in\n",
      "    turn returns the decayed learning rate Tensor. This can be useful for changing\n",
      "    the learning rate value across different invocations of optimizer functions.\n",
      "    @end_compatibility\n",
      "\n"
     ]
    }
   ],
   "source": [
    "help(tf.train.exponential_decay)"
   ]
  }
 ],
 "metadata": {
  "colab": {
   "default_view": {},
   "name": "3_regularization.ipynb",
   "provenance": [],
   "toc_visible": true,
   "version": "0.3.2",
   "views": {}
  },
  "kernelspec": {
   "display_name": "Python 3",
   "language": "python",
   "name": "python3"
  },
  "language_info": {
   "codemirror_mode": {
    "name": "ipython",
    "version": 3
   },
   "file_extension": ".py",
   "mimetype": "text/x-python",
   "name": "python",
   "nbconvert_exporter": "python",
   "pygments_lexer": "ipython3",
   "version": "3.7.3"
  }
 },
 "nbformat": 4,
 "nbformat_minor": 1
}
